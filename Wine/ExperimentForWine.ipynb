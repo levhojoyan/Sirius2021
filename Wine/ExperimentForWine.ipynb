{
  "nbformat": 4,
  "nbformat_minor": 0,
  "metadata": {
    "colab": {
      "name": "ExperimentForWine.ipynb",
      "provenance": [],
      "collapsed_sections": [],
      "mount_file_id": "1ZneuhemNvcbscZvD-Mb5NRUflbRycUTo",
      "authorship_tag": "ABX9TyO+AtGGflGLg2+R5z82cT5j",
      "include_colab_link": true
    },
    "kernelspec": {
      "name": "python3",
      "display_name": "Python 3"
    },
    "language_info": {
      "name": "python"
    },
    "widgets": {
      "application/vnd.jupyter.widget-state+json": {
        "fd39fb0ea28f4bb28bd7a3146f45f452": {
          "model_module": "@jupyter-widgets/controls",
          "model_name": "HBoxModel",
          "model_module_version": "1.5.0",
          "state": {
            "_dom_classes": [],
            "_model_module": "@jupyter-widgets/controls",
            "_model_module_version": "1.5.0",
            "_model_name": "HBoxModel",
            "_view_count": null,
            "_view_module": "@jupyter-widgets/controls",
            "_view_module_version": "1.5.0",
            "_view_name": "HBoxView",
            "box_style": "",
            "children": [
              "IPY_MODEL_cc7672919f6546f1b43f2d8ad0ab63a2",
              "IPY_MODEL_1955762f341f4c04a75b659045775241",
              "IPY_MODEL_050cc6f3851b4dbf9646ebb245efe6f2"
            ],
            "layout": "IPY_MODEL_e00bcb99eda84aad996a5ed2d28be3ed"
          }
        },
        "cc7672919f6546f1b43f2d8ad0ab63a2": {
          "model_module": "@jupyter-widgets/controls",
          "model_name": "HTMLModel",
          "model_module_version": "1.5.0",
          "state": {
            "_dom_classes": [],
            "_model_module": "@jupyter-widgets/controls",
            "_model_module_version": "1.5.0",
            "_model_name": "HTMLModel",
            "_view_count": null,
            "_view_module": "@jupyter-widgets/controls",
            "_view_module_version": "1.5.0",
            "_view_name": "HTMLView",
            "description": "",
            "description_tooltip": null,
            "layout": "IPY_MODEL_f9e17fecfeae48ec81eb4cb1dbd1b865",
            "placeholder": "​",
            "style": "IPY_MODEL_a1a8fdbdfc1241d3985fb07a77ab2ee6",
            "value": "100%"
          }
        },
        "1955762f341f4c04a75b659045775241": {
          "model_module": "@jupyter-widgets/controls",
          "model_name": "FloatProgressModel",
          "model_module_version": "1.5.0",
          "state": {
            "_dom_classes": [],
            "_model_module": "@jupyter-widgets/controls",
            "_model_module_version": "1.5.0",
            "_model_name": "FloatProgressModel",
            "_view_count": null,
            "_view_module": "@jupyter-widgets/controls",
            "_view_module_version": "1.5.0",
            "_view_name": "ProgressView",
            "bar_style": "success",
            "description": "",
            "description_tooltip": null,
            "layout": "IPY_MODEL_9c951e65a4cc4447a98247e4f9863589",
            "max": 100,
            "min": 0,
            "orientation": "horizontal",
            "style": "IPY_MODEL_91289cfcdc1e455b881db372c78fc8d5",
            "value": 100
          }
        },
        "050cc6f3851b4dbf9646ebb245efe6f2": {
          "model_module": "@jupyter-widgets/controls",
          "model_name": "HTMLModel",
          "model_module_version": "1.5.0",
          "state": {
            "_dom_classes": [],
            "_model_module": "@jupyter-widgets/controls",
            "_model_module_version": "1.5.0",
            "_model_name": "HTMLModel",
            "_view_count": null,
            "_view_module": "@jupyter-widgets/controls",
            "_view_module_version": "1.5.0",
            "_view_name": "HTMLView",
            "description": "",
            "description_tooltip": null,
            "layout": "IPY_MODEL_109882ea492043c78a1f25a0107060b4",
            "placeholder": "​",
            "style": "IPY_MODEL_2711a7104f4649cbb94707f3fab122dc",
            "value": " 100/100 [09:25&lt;00:00,  5.61s/it]"
          }
        },
        "e00bcb99eda84aad996a5ed2d28be3ed": {
          "model_module": "@jupyter-widgets/base",
          "model_name": "LayoutModel",
          "model_module_version": "1.2.0",
          "state": {
            "_model_module": "@jupyter-widgets/base",
            "_model_module_version": "1.2.0",
            "_model_name": "LayoutModel",
            "_view_count": null,
            "_view_module": "@jupyter-widgets/base",
            "_view_module_version": "1.2.0",
            "_view_name": "LayoutView",
            "align_content": null,
            "align_items": null,
            "align_self": null,
            "border": null,
            "bottom": null,
            "display": null,
            "flex": null,
            "flex_flow": null,
            "grid_area": null,
            "grid_auto_columns": null,
            "grid_auto_flow": null,
            "grid_auto_rows": null,
            "grid_column": null,
            "grid_gap": null,
            "grid_row": null,
            "grid_template_areas": null,
            "grid_template_columns": null,
            "grid_template_rows": null,
            "height": null,
            "justify_content": null,
            "justify_items": null,
            "left": null,
            "margin": null,
            "max_height": null,
            "max_width": null,
            "min_height": null,
            "min_width": null,
            "object_fit": null,
            "object_position": null,
            "order": null,
            "overflow": null,
            "overflow_x": null,
            "overflow_y": null,
            "padding": null,
            "right": null,
            "top": null,
            "visibility": null,
            "width": null
          }
        },
        "f9e17fecfeae48ec81eb4cb1dbd1b865": {
          "model_module": "@jupyter-widgets/base",
          "model_name": "LayoutModel",
          "model_module_version": "1.2.0",
          "state": {
            "_model_module": "@jupyter-widgets/base",
            "_model_module_version": "1.2.0",
            "_model_name": "LayoutModel",
            "_view_count": null,
            "_view_module": "@jupyter-widgets/base",
            "_view_module_version": "1.2.0",
            "_view_name": "LayoutView",
            "align_content": null,
            "align_items": null,
            "align_self": null,
            "border": null,
            "bottom": null,
            "display": null,
            "flex": null,
            "flex_flow": null,
            "grid_area": null,
            "grid_auto_columns": null,
            "grid_auto_flow": null,
            "grid_auto_rows": null,
            "grid_column": null,
            "grid_gap": null,
            "grid_row": null,
            "grid_template_areas": null,
            "grid_template_columns": null,
            "grid_template_rows": null,
            "height": null,
            "justify_content": null,
            "justify_items": null,
            "left": null,
            "margin": null,
            "max_height": null,
            "max_width": null,
            "min_height": null,
            "min_width": null,
            "object_fit": null,
            "object_position": null,
            "order": null,
            "overflow": null,
            "overflow_x": null,
            "overflow_y": null,
            "padding": null,
            "right": null,
            "top": null,
            "visibility": null,
            "width": null
          }
        },
        "a1a8fdbdfc1241d3985fb07a77ab2ee6": {
          "model_module": "@jupyter-widgets/controls",
          "model_name": "DescriptionStyleModel",
          "model_module_version": "1.5.0",
          "state": {
            "_model_module": "@jupyter-widgets/controls",
            "_model_module_version": "1.5.0",
            "_model_name": "DescriptionStyleModel",
            "_view_count": null,
            "_view_module": "@jupyter-widgets/base",
            "_view_module_version": "1.2.0",
            "_view_name": "StyleView",
            "description_width": ""
          }
        },
        "9c951e65a4cc4447a98247e4f9863589": {
          "model_module": "@jupyter-widgets/base",
          "model_name": "LayoutModel",
          "model_module_version": "1.2.0",
          "state": {
            "_model_module": "@jupyter-widgets/base",
            "_model_module_version": "1.2.0",
            "_model_name": "LayoutModel",
            "_view_count": null,
            "_view_module": "@jupyter-widgets/base",
            "_view_module_version": "1.2.0",
            "_view_name": "LayoutView",
            "align_content": null,
            "align_items": null,
            "align_self": null,
            "border": null,
            "bottom": null,
            "display": null,
            "flex": null,
            "flex_flow": null,
            "grid_area": null,
            "grid_auto_columns": null,
            "grid_auto_flow": null,
            "grid_auto_rows": null,
            "grid_column": null,
            "grid_gap": null,
            "grid_row": null,
            "grid_template_areas": null,
            "grid_template_columns": null,
            "grid_template_rows": null,
            "height": null,
            "justify_content": null,
            "justify_items": null,
            "left": null,
            "margin": null,
            "max_height": null,
            "max_width": null,
            "min_height": null,
            "min_width": null,
            "object_fit": null,
            "object_position": null,
            "order": null,
            "overflow": null,
            "overflow_x": null,
            "overflow_y": null,
            "padding": null,
            "right": null,
            "top": null,
            "visibility": null,
            "width": null
          }
        },
        "91289cfcdc1e455b881db372c78fc8d5": {
          "model_module": "@jupyter-widgets/controls",
          "model_name": "ProgressStyleModel",
          "model_module_version": "1.5.0",
          "state": {
            "_model_module": "@jupyter-widgets/controls",
            "_model_module_version": "1.5.0",
            "_model_name": "ProgressStyleModel",
            "_view_count": null,
            "_view_module": "@jupyter-widgets/base",
            "_view_module_version": "1.2.0",
            "_view_name": "StyleView",
            "bar_color": null,
            "description_width": ""
          }
        },
        "109882ea492043c78a1f25a0107060b4": {
          "model_module": "@jupyter-widgets/base",
          "model_name": "LayoutModel",
          "model_module_version": "1.2.0",
          "state": {
            "_model_module": "@jupyter-widgets/base",
            "_model_module_version": "1.2.0",
            "_model_name": "LayoutModel",
            "_view_count": null,
            "_view_module": "@jupyter-widgets/base",
            "_view_module_version": "1.2.0",
            "_view_name": "LayoutView",
            "align_content": null,
            "align_items": null,
            "align_self": null,
            "border": null,
            "bottom": null,
            "display": null,
            "flex": null,
            "flex_flow": null,
            "grid_area": null,
            "grid_auto_columns": null,
            "grid_auto_flow": null,
            "grid_auto_rows": null,
            "grid_column": null,
            "grid_gap": null,
            "grid_row": null,
            "grid_template_areas": null,
            "grid_template_columns": null,
            "grid_template_rows": null,
            "height": null,
            "justify_content": null,
            "justify_items": null,
            "left": null,
            "margin": null,
            "max_height": null,
            "max_width": null,
            "min_height": null,
            "min_width": null,
            "object_fit": null,
            "object_position": null,
            "order": null,
            "overflow": null,
            "overflow_x": null,
            "overflow_y": null,
            "padding": null,
            "right": null,
            "top": null,
            "visibility": null,
            "width": null
          }
        },
        "2711a7104f4649cbb94707f3fab122dc": {
          "model_module": "@jupyter-widgets/controls",
          "model_name": "DescriptionStyleModel",
          "model_module_version": "1.5.0",
          "state": {
            "_model_module": "@jupyter-widgets/controls",
            "_model_module_version": "1.5.0",
            "_model_name": "DescriptionStyleModel",
            "_view_count": null,
            "_view_module": "@jupyter-widgets/base",
            "_view_module_version": "1.2.0",
            "_view_name": "StyleView",
            "description_width": ""
          }
        }
      }
    }
  },
  "cells": [
    {
      "cell_type": "markdown",
      "metadata": {
        "id": "view-in-github",
        "colab_type": "text"
      },
      "source": [
        "<a href=\"https://colab.research.google.com/github/levhojoyan/thesis/blob/main/Wine/ExperimentForWine.ipynb\" target=\"_parent\"><img src=\"https://colab.research.google.com/assets/colab-badge.svg\" alt=\"Open In Colab\"/></a>"
      ]
    },
    {
      "cell_type": "code",
      "metadata": {
        "id": "FPTRte0XzkRa"
      },
      "source": [
        "import numpy as np \n",
        "import torch\n",
        "import torchvision\n",
        "import matplotlib.pyplot as plt\n",
        "import torch.nn as nn\n",
        "import torch.nn.functional as F\n",
        "from tqdm.notebook import tqdm\n",
        "\n",
        "from torch.utils.data import TensorDataset, DataLoader\n",
        "\n",
        "\n",
        "from IPython import display\n",
        "import time\n",
        "\n",
        "%matplotlib inline"
      ],
      "execution_count": null,
      "outputs": []
    },
    {
      "cell_type": "code",
      "metadata": {
        "id": "4hrcrM8gG2R9",
        "colab": {
          "base_uri": "https://localhost:8080/",
          "height": 342
        },
        "outputId": "58437d73-693e-4d8c-d00e-31f2771ddad0"
      },
      "source": [
        "from google.colab import drive\n",
        "drive.mount('/content/drive')"
      ],
      "execution_count": null,
      "outputs": [
        {
          "output_type": "error",
          "ename": "MessageError",
          "evalue": "ignored",
          "traceback": [
            "\u001b[0;31m---------------------------------------------------------------------------\u001b[0m",
            "\u001b[0;31mMessageError\u001b[0m                              Traceback (most recent call last)",
            "\u001b[0;32m<ipython-input-2-d5df0069828e>\u001b[0m in \u001b[0;36m<module>\u001b[0;34m()\u001b[0m\n\u001b[1;32m      1\u001b[0m \u001b[0;32mfrom\u001b[0m \u001b[0mgoogle\u001b[0m\u001b[0;34m.\u001b[0m\u001b[0mcolab\u001b[0m \u001b[0;32mimport\u001b[0m \u001b[0mdrive\u001b[0m\u001b[0;34m\u001b[0m\u001b[0;34m\u001b[0m\u001b[0m\n\u001b[0;32m----> 2\u001b[0;31m \u001b[0mdrive\u001b[0m\u001b[0;34m.\u001b[0m\u001b[0mmount\u001b[0m\u001b[0;34m(\u001b[0m\u001b[0;34m'/content/drive'\u001b[0m\u001b[0;34m)\u001b[0m\u001b[0;34m\u001b[0m\u001b[0;34m\u001b[0m\u001b[0m\n\u001b[0m",
            "\u001b[0;32m/usr/local/lib/python3.7/dist-packages/google/colab/drive.py\u001b[0m in \u001b[0;36mmount\u001b[0;34m(mountpoint, force_remount, timeout_ms)\u001b[0m\n\u001b[1;32m    107\u001b[0m       \u001b[0mforce_remount\u001b[0m\u001b[0;34m=\u001b[0m\u001b[0mforce_remount\u001b[0m\u001b[0;34m,\u001b[0m\u001b[0;34m\u001b[0m\u001b[0;34m\u001b[0m\u001b[0m\n\u001b[1;32m    108\u001b[0m       \u001b[0mtimeout_ms\u001b[0m\u001b[0;34m=\u001b[0m\u001b[0mtimeout_ms\u001b[0m\u001b[0;34m,\u001b[0m\u001b[0;34m\u001b[0m\u001b[0;34m\u001b[0m\u001b[0m\n\u001b[0;32m--> 109\u001b[0;31m       ephemeral=True)\n\u001b[0m\u001b[1;32m    110\u001b[0m \u001b[0;34m\u001b[0m\u001b[0m\n\u001b[1;32m    111\u001b[0m \u001b[0;34m\u001b[0m\u001b[0m\n",
            "\u001b[0;32m/usr/local/lib/python3.7/dist-packages/google/colab/drive.py\u001b[0m in \u001b[0;36m_mount\u001b[0;34m(mountpoint, force_remount, timeout_ms, ephemeral)\u001b[0m\n\u001b[1;32m    122\u001b[0m   \u001b[0;32mif\u001b[0m \u001b[0mephemeral\u001b[0m\u001b[0;34m:\u001b[0m\u001b[0;34m\u001b[0m\u001b[0;34m\u001b[0m\u001b[0m\n\u001b[1;32m    123\u001b[0m     _message.blocking_request(\n\u001b[0;32m--> 124\u001b[0;31m         'request_auth', request={'authType': 'dfs_ephemeral'}, timeout_sec=None)\n\u001b[0m\u001b[1;32m    125\u001b[0m \u001b[0;34m\u001b[0m\u001b[0m\n\u001b[1;32m    126\u001b[0m   \u001b[0mmountpoint\u001b[0m \u001b[0;34m=\u001b[0m \u001b[0m_os\u001b[0m\u001b[0;34m.\u001b[0m\u001b[0mpath\u001b[0m\u001b[0;34m.\u001b[0m\u001b[0mexpanduser\u001b[0m\u001b[0;34m(\u001b[0m\u001b[0mmountpoint\u001b[0m\u001b[0;34m)\u001b[0m\u001b[0;34m\u001b[0m\u001b[0;34m\u001b[0m\u001b[0m\n",
            "\u001b[0;32m/usr/local/lib/python3.7/dist-packages/google/colab/_message.py\u001b[0m in \u001b[0;36mblocking_request\u001b[0;34m(request_type, request, timeout_sec, parent)\u001b[0m\n\u001b[1;32m    173\u001b[0m   request_id = send_request(\n\u001b[1;32m    174\u001b[0m       request_type, request, parent=parent, expect_reply=True)\n\u001b[0;32m--> 175\u001b[0;31m   \u001b[0;32mreturn\u001b[0m \u001b[0mread_reply_from_input\u001b[0m\u001b[0;34m(\u001b[0m\u001b[0mrequest_id\u001b[0m\u001b[0;34m,\u001b[0m \u001b[0mtimeout_sec\u001b[0m\u001b[0;34m)\u001b[0m\u001b[0;34m\u001b[0m\u001b[0;34m\u001b[0m\u001b[0m\n\u001b[0m",
            "\u001b[0;32m/usr/local/lib/python3.7/dist-packages/google/colab/_message.py\u001b[0m in \u001b[0;36mread_reply_from_input\u001b[0;34m(message_id, timeout_sec)\u001b[0m\n\u001b[1;32m    104\u001b[0m         reply.get('colab_msg_id') == message_id):\n\u001b[1;32m    105\u001b[0m       \u001b[0;32mif\u001b[0m \u001b[0;34m'error'\u001b[0m \u001b[0;32min\u001b[0m \u001b[0mreply\u001b[0m\u001b[0;34m:\u001b[0m\u001b[0;34m\u001b[0m\u001b[0;34m\u001b[0m\u001b[0m\n\u001b[0;32m--> 106\u001b[0;31m         \u001b[0;32mraise\u001b[0m \u001b[0mMessageError\u001b[0m\u001b[0;34m(\u001b[0m\u001b[0mreply\u001b[0m\u001b[0;34m[\u001b[0m\u001b[0;34m'error'\u001b[0m\u001b[0;34m]\u001b[0m\u001b[0;34m)\u001b[0m\u001b[0;34m\u001b[0m\u001b[0;34m\u001b[0m\u001b[0m\n\u001b[0m\u001b[1;32m    107\u001b[0m       \u001b[0;32mreturn\u001b[0m \u001b[0mreply\u001b[0m\u001b[0;34m.\u001b[0m\u001b[0mget\u001b[0m\u001b[0;34m(\u001b[0m\u001b[0;34m'data'\u001b[0m\u001b[0;34m,\u001b[0m \u001b[0;32mNone\u001b[0m\u001b[0;34m)\u001b[0m\u001b[0;34m\u001b[0m\u001b[0;34m\u001b[0m\u001b[0m\n\u001b[1;32m    108\u001b[0m \u001b[0;34m\u001b[0m\u001b[0m\n",
            "\u001b[0;31mMessageError\u001b[0m: Error: credential propagation was unsuccessful"
          ]
        }
      ]
    },
    {
      "cell_type": "code",
      "source": [
        "import pandas as pd\n",
        "\n",
        "red = False\n",
        "\n",
        "if red:\n",
        "    wine = pd.read_csv(\"/content/drive/MyDrive/HSE/Diploma/Wine/winequality-red.csv\")\n",
        "else:\n",
        "    wine = pd.read_csv(\"/content/drive/MyDrive/HSE/Diploma/Wine/winequality-white.csv\", sep=';')\n",
        "\n",
        "y = wine.quality\n",
        "X = wine.drop(columns=['quality'])"
      ],
      "metadata": {
        "id": "_Jpryy6hX1iO"
      },
      "execution_count": null,
      "outputs": []
    },
    {
      "cell_type": "code",
      "source": [
        "X.shape"
      ],
      "metadata": {
        "id": "fLoz7nGUIR9j"
      },
      "execution_count": null,
      "outputs": []
    },
    {
      "cell_type": "code",
      "metadata": {
        "id": "l3kBHcS5XdjI"
      },
      "source": [
        "batch_size = 128\n",
        "epochs = 150"
      ],
      "execution_count": null,
      "outputs": []
    },
    {
      "cell_type": "code",
      "metadata": {
        "id": "l6scO_xl6Bzb"
      },
      "source": [
        "class RandomDataset(torch.utils.data.Dataset):\n",
        "    \"\"\"Our random dataset\"\"\"\n",
        "    \n",
        "    def __init__(self, x, y):\n",
        "        self.x, self.y = x, y\n",
        "        \n",
        "    def __len__(self):\n",
        "        return len(self.x)\n",
        "    \n",
        "    def __getitem__(self, idx):\n",
        "        return {'sample': torch.tensor(self.x.iloc[idx], dtype=torch.float), 'target': self.y.iloc[idx]}"
      ],
      "execution_count": null,
      "outputs": []
    },
    {
      "cell_type": "code",
      "metadata": {
        "id": "XTG5o4dPH0tj"
      },
      "source": [
        "from sklearn.model_selection import train_test_split"
      ],
      "execution_count": null,
      "outputs": []
    },
    {
      "cell_type": "code",
      "metadata": {
        "id": "FZJlOMYbH3Vo"
      },
      "source": [
        "X_train, X_test, y_train, y_test = train_test_split(X, y, test_size=0.3, random_state=42, shuffle=True)"
      ],
      "execution_count": null,
      "outputs": []
    },
    {
      "cell_type": "code",
      "source": [
        "X_train_tensor = torch.from_numpy(X_train.values).float()\n",
        "X_test_tensor = torch.from_numpy(X_test.values).float()\n",
        "\n",
        "y_train_tensor = torch.from_numpy(y_train.values).float()\n",
        "y_test_tensor = torch.from_numpy(y_test.values).float()\n",
        "\n",
        "train_torch = TensorDataset(X_train_tensor, y_train_tensor)\n",
        "val_torch = TensorDataset(X_test_tensor, y_test_tensor)\n",
        "\n",
        "train_dataloader = DataLoader(train_torch, batch_size=batch_size, shuffle=True, drop_last=True)\n",
        "val_dataloader = DataLoader(val_torch, batch_size=batch_size, shuffle=True, drop_last=True)"
      ],
      "metadata": {
        "id": "LYE18Kq18mAc"
      },
      "execution_count": null,
      "outputs": []
    },
    {
      "cell_type": "code",
      "source": [
        "X_train_tensor.shape, X_test_tensor.shape"
      ],
      "metadata": {
        "id": "RN5B1AZ8JTXJ"
      },
      "execution_count": null,
      "outputs": []
    },
    {
      "cell_type": "code",
      "metadata": {
        "id": "JFD2fxpSr_so"
      },
      "source": [
        "class Template(nn.Module):\n",
        "    def __init__(self, input_shape, output_shape=5):\n",
        "        super(Template, self).__init__()\n",
        "        self.input_shape = input_shape\n",
        "        self.output_shape = output_shape\n",
        "        self.convs = nn.Sequential(\n",
        "                          nn.Linear(self.input_shape, 8),\n",
        "                          nn.ReLU(),\n",
        "                          nn.Linear(8, 3),\n",
        "                          nn.ReLU(),\n",
        "                          nn.Linear(3, 8),\n",
        "                          nn.ReLU(),\n",
        "                          nn.Linear(8, output_shape),\n",
        "                          nn.ReLU(),\n",
        "                          )\n",
        "\n",
        "\n",
        "    def forward(self, x):\n",
        "        for conv in self.convs:\n",
        "          x = F.relu(conv(x))\n",
        "        return x"
      ],
      "execution_count": null,
      "outputs": []
    },
    {
      "cell_type": "code",
      "metadata": {
        "id": "5SdRG2Mb9LkM"
      },
      "source": [
        "class Model(nn.Module):\n",
        "    def __init__(self, input_shape):\n",
        "        super(Model, self).__init__()\n",
        "        self.input_shape = input_shape\n",
        "        self.template = Template(self.input_shape)\n",
        "        self.conv2 = nn.Linear(self.template.output_shape, 1)\n",
        "\n",
        "    def forward(self, x):\n",
        "      x = self.template(x)\n",
        "\n",
        "      return self.conv2(x)\n",
        "\n",
        "    def count_loss(self, X, y):\n",
        "        return self.count_mse(X, y)\n",
        "\n",
        "    def count_mse(self, X, y):\n",
        "        \n",
        "        y_pred_functions = self.forward(X)\n",
        "        \n",
        "        # print(y_pred_functions.shape, y.shape)\n",
        "        assert y_pred_functions.shape == y.reshape(-1, 1).shape\n",
        "\n",
        "        mse = torch.nn.MSELoss()(y_pred_functions, y.reshape(-1, 1))\n",
        "\n",
        "        return mse\n",
        "\n",
        "class ModelWithWeighted(nn.Module):\n",
        "    def __init__(self, input_shape, output_models=10):\n",
        "        super(ModelWithWeighted, self).__init__()\n",
        "\n",
        "        self.input_shape = input_shape\n",
        "\n",
        "        self.conv1 = Template(input_shape) # the simpliest\n",
        "        self.conv2 = nn.Linear(self.conv1.output_shape, output_models) # the simpliest\n",
        "\n",
        "        self.weights = nn.Parameter(torch.zeros(output_models, requires_grad=True))\n",
        "\n",
        "\n",
        "    def forward(self, x):\n",
        "        x = self.conv1(x)\n",
        "        return self.conv2(x)\n",
        "\n",
        "    \n",
        "    def count_loss(self, X, y):\n",
        "        norm_weights = F.softmax(self.weights, dim=0)\n",
        "\n",
        "        y_pred_functions = self.forward(X)\n",
        "\n",
        "        total_pred = torch.sum(y_pred_functions * norm_weights, dim=-1)\n",
        "\n",
        "        # print('kek1')\n",
        "        # print(y_pred_functions.shape, y.shape)\n",
        "        # assert y_pred_functions.shape == y.shape\n",
        "        \n",
        "        weighted_mse = torch.sum(norm_weights * ((y_pred_functions - y.reshape(-1, 1))**2))\n",
        "\n",
        "        # print(total_pred.shape, y.shape)\n",
        "        # print('kek2')\n",
        "\n",
        "        assert total_pred.shape == y.shape\n",
        "        # print('kek3')\n",
        "\n",
        "        mse = torch.nn.MSELoss()(total_pred, y)\n",
        "\n",
        "        return mse + weighted_mse\n",
        "\n",
        "    def count_mse(self, X, y):\n",
        "        norm_weights = F.softmax(self.weights, dim=0)\n",
        "\n",
        "        y_pred_functions = self.forward(X)\n",
        "\n",
        "        total_pred = torch.sum(y_pred_functions * norm_weights, dim=-1)\n",
        "        \n",
        "        assert total_pred.shape == y.shape\n",
        "\n",
        "        mse = torch.nn.MSELoss()(total_pred, y)\n",
        "\n",
        "        return mse"
      ],
      "execution_count": null,
      "outputs": []
    },
    {
      "cell_type": "code",
      "source": [
        "def get_lr(optimizer):\n",
        "    for param_group in optimizer.param_groups:\n",
        "        return param_group['lr']"
      ],
      "metadata": {
        "id": "Psd6OfA9n6FX"
      },
      "execution_count": null,
      "outputs": []
    },
    {
      "cell_type": "code",
      "source": [
        ""
      ],
      "metadata": {
        "id": "sDC1R81BIFNr"
      },
      "execution_count": null,
      "outputs": []
    },
    {
      "cell_type": "code",
      "metadata": {
        "id": "Oz8Gb2eyoicx"
      },
      "source": [
        "def train_and_get_log_Q():\n",
        "    learning_rate = 1e-2\n",
        "    model2 = ModelWithWeighted(X_train.shape[1])\n",
        "    optimizer = torch.optim.Adam(model2.parameters(), lr=learning_rate)\n",
        "    scheduler = torch.optim.lr_scheduler.ExponentialLR(optimizer, gamma=0.985)\n",
        "\n",
        "    log_weights = {}\n",
        "\n",
        "    log_weights['train_losses'] = []\n",
        "    log_weights['test_losses'] = []\n",
        "\n",
        "    epochs = 105\n",
        "\n",
        "    for i, epoch in enumerate(range(epochs)):\n",
        "        for x_batch, y_batch in train_dataloader:\n",
        "            loss = model2.count_loss(x_batch, y_batch)\n",
        "            \n",
        "            optimizer.zero_grad()\n",
        "            loss.backward()\n",
        "            optimizer.step()\n",
        "\n",
        "        scheduler.step()\n",
        "\n",
        "        with torch.no_grad():\n",
        "            test_mse = model2.count_mse(X_test_tensor, y_test_tensor).item()\n",
        "            train_mse = model2.count_mse(X_train_tensor, y_train_tensor).item()\n",
        "\n",
        "            log_weights['train_losses'].append(train_mse)\n",
        "            log_weights['test_losses'].append(test_mse)\n",
        "\n",
        "        lr = get_lr(optimizer)\n",
        "\n",
        "    #     print(\n",
        "    #         f\"[{epoch}/{epochs}]\\t Training loss: {train_mse:8.4f}\\t Validation loss: {test_mse:8.4f}\\t Learning rate: {lr:8.4f}\"\n",
        "    #     )\n",
        "\n",
        "    # plt.plot(log_weights['test_losses'][20:], c='b', label='test')\n",
        "    # plt.plot(log_weights['train_losses'][20:], c='r', label='train')\n",
        "    # plt.legend()\n",
        "    # plt.show()\n",
        "\n",
        "    return log_weights['test_losses']\n",
        "\n",
        "# _ = train_and_get_log_Q()"
      ],
      "execution_count": null,
      "outputs": []
    },
    {
      "cell_type": "code",
      "source": [
        "def train_and_get_log_default():\n",
        "    learning_rate = 0.07\n",
        "    model = Model(X_train.shape[1])\n",
        "    optimizer = torch.optim.Adam(model.parameters(), lr=learning_rate)\n",
        "    scheduler = torch.optim.lr_scheduler.ExponentialLR(optimizer, gamma=0.99)\n",
        "\n",
        "    log_original = {}\n",
        "\n",
        "    log_original['train_losses'] = []\n",
        "    log_original['test_losses'] = []\n",
        "\n",
        "    epochs = 105\n",
        "\n",
        "    for i, epoch in enumerate(range(epochs)):\n",
        "        for x_batch, y_batch in train_dataloader:\n",
        "            loss = model.count_loss(x_batch, y_batch)\n",
        "            \n",
        "            optimizer.zero_grad()\n",
        "            loss.backward()\n",
        "            optimizer.step()\n",
        "\n",
        "        scheduler.step()\n",
        "\n",
        "\n",
        "        with torch.no_grad():\n",
        "            test_mse = model.count_mse(X_test_tensor, y_test_tensor).item()\n",
        "            train_mse = model.count_mse(X_train_tensor, y_train_tensor).item()\n",
        "\n",
        "            log_original['train_losses'].append(train_mse)\n",
        "            log_original['test_losses'].append(test_mse)\n",
        "\n",
        "        lr = get_lr(optimizer)\n",
        "\n",
        "        # print(\n",
        "        #     f\"[{epoch}/{epochs}]\\t Training loss: {train_mse:8.4f}\\t Validation loss: {test_mse:8.4f}\\t Learning rate: {lr:8.4f}\"\n",
        "        # )\n",
        "\n",
        "    # plt.plot(log_original['test_losses'][20:], c='b', label='test')\n",
        "    # plt.plot(log_original['train_losses'][20:], c='r', label='train')\n",
        "    # plt.legend()\n",
        "    # plt.show()\n",
        "\n",
        "    return log_original['test_losses']"
      ],
      "metadata": {
        "id": "IS81hdwUaCJ9"
      },
      "execution_count": null,
      "outputs": []
    },
    {
      "cell_type": "code",
      "source": [
        "torch.manual_seed(0)\n",
        "Q_story = []\n",
        "for _ in tqdm(range(100)):\n",
        "    l = train_and_get_log_Q()\n",
        "    Q_story.append(l[100])\n",
        "\n",
        "np.mean(Q_story), np.std(Q_story)"
      ],
      "metadata": {
        "id": "lYILiPbzhJLu"
      },
      "execution_count": null,
      "outputs": []
    },
    {
      "cell_type": "code",
      "source": [
        "Q_story"
      ],
      "metadata": {
        "id": "Wr7w5b6liqBU"
      },
      "execution_count": null,
      "outputs": []
    },
    {
      "cell_type": "code",
      "source": [
        "torch.manual_seed(0)\n",
        "story = []\n",
        "for _ in tqdm(range(100)):\n",
        "    log_original = train_and_get_log_default()\n",
        "    story.append(log_original[100])\n",
        "\n",
        "np.mean(story), np.std(story)"
      ],
      "metadata": {
        "colab": {
          "base_uri": "https://localhost:8080/",
          "height": 67,
          "referenced_widgets": [
            "fd39fb0ea28f4bb28bd7a3146f45f452",
            "cc7672919f6546f1b43f2d8ad0ab63a2",
            "1955762f341f4c04a75b659045775241",
            "050cc6f3851b4dbf9646ebb245efe6f2",
            "e00bcb99eda84aad996a5ed2d28be3ed",
            "f9e17fecfeae48ec81eb4cb1dbd1b865",
            "a1a8fdbdfc1241d3985fb07a77ab2ee6",
            "9c951e65a4cc4447a98247e4f9863589",
            "91289cfcdc1e455b881db372c78fc8d5",
            "109882ea492043c78a1f25a0107060b4",
            "2711a7104f4649cbb94707f3fab122dc"
          ]
        },
        "id": "AWe4IBv1dxDt",
        "outputId": "0bbcc3b9-3698-40c5-dc90-c2cdef24f515"
      },
      "execution_count": null,
      "outputs": [
        {
          "output_type": "display_data",
          "data": {
            "text/plain": [
              "  0%|          | 0/100 [00:00<?, ?it/s]"
            ],
            "application/vnd.jupyter.widget-view+json": {
              "version_major": 2,
              "version_minor": 0,
              "model_id": "fd39fb0ea28f4bb28bd7a3146f45f452"
            }
          },
          "metadata": {}
        },
        {
          "output_type": "execute_result",
          "data": {
            "text/plain": [
              "(0.6352674621343612, 0.09325426889947433)"
            ]
          },
          "metadata": {},
          "execution_count": 48
        }
      ]
    },
    {
      "cell_type": "code",
      "source": [
        "story"
      ],
      "metadata": {
        "colab": {
          "base_uri": "https://localhost:8080/"
        },
        "id": "3mwYrYS1i5Ii",
        "outputId": "e285911c-2856-4f03-a64a-0e427a11d436"
      },
      "execution_count": null,
      "outputs": [
        {
          "output_type": "execute_result",
          "data": {
            "text/plain": [
              "[0.7559934854507446,\n",
              " 0.755177915096283,\n",
              " 0.5625780820846558,\n",
              " 0.7697194218635559,\n",
              " 0.632752537727356,\n",
              " 0.7573242783546448,\n",
              " 0.755609929561615,\n",
              " 0.5795725584030151,\n",
              " 0.7551267743110657,\n",
              " 0.771098256111145]"
            ]
          },
          "metadata": {},
          "execution_count": 20
        }
      ]
    },
    {
      "cell_type": "code",
      "source": [
        "s = 0"
      ],
      "metadata": {
        "id": "5jyIg9yVdFT4"
      },
      "execution_count": null,
      "outputs": []
    },
    {
      "cell_type": "code",
      "source": [
        "s = 0\n",
        "plt.figure(figsize=(20, 10))\n",
        "plt.plot(log_original[s:], c='b', label='original')\n",
        "plt.plot( log_weights[s:], c='r', label='Q-aggregation')\n",
        "plt.ylabel('Risk on test data')\n",
        "plt.xlabel('Epochs')\n",
        "plt.legend()"
      ],
      "metadata": {
        "id": "F7ShBbM_qAjc",
        "colab": {
          "base_uri": "https://localhost:8080/",
          "height": 819
        },
        "outputId": "b5afe814-2a0d-4206-f73d-63431518dbdb"
      },
      "execution_count": null,
      "outputs": [
        {
          "output_type": "error",
          "ename": "TypeError",
          "evalue": "ignored",
          "traceback": [
            "\u001b[0;31m---------------------------------------------------------------------------\u001b[0m",
            "\u001b[0;31mTypeError\u001b[0m                                 Traceback (most recent call last)",
            "\u001b[0;32m<ipython-input-22-2f44ee88728e>\u001b[0m in \u001b[0;36m<module>\u001b[0;34m()\u001b[0m\n\u001b[1;32m      2\u001b[0m \u001b[0mplt\u001b[0m\u001b[0;34m.\u001b[0m\u001b[0mfigure\u001b[0m\u001b[0;34m(\u001b[0m\u001b[0mfigsize\u001b[0m\u001b[0;34m=\u001b[0m\u001b[0;34m(\u001b[0m\u001b[0;36m20\u001b[0m\u001b[0;34m,\u001b[0m \u001b[0;36m10\u001b[0m\u001b[0;34m)\u001b[0m\u001b[0;34m)\u001b[0m\u001b[0;34m\u001b[0m\u001b[0;34m\u001b[0m\u001b[0m\n\u001b[1;32m      3\u001b[0m \u001b[0mplt\u001b[0m\u001b[0;34m.\u001b[0m\u001b[0mplot\u001b[0m\u001b[0;34m(\u001b[0m\u001b[0mlog_original\u001b[0m\u001b[0;34m[\u001b[0m\u001b[0ms\u001b[0m\u001b[0;34m:\u001b[0m\u001b[0;34m]\u001b[0m\u001b[0;34m,\u001b[0m \u001b[0mc\u001b[0m\u001b[0;34m=\u001b[0m\u001b[0;34m'b'\u001b[0m\u001b[0;34m,\u001b[0m \u001b[0mlabel\u001b[0m\u001b[0;34m=\u001b[0m\u001b[0;34m'original'\u001b[0m\u001b[0;34m)\u001b[0m\u001b[0;34m\u001b[0m\u001b[0;34m\u001b[0m\u001b[0m\n\u001b[0;32m----> 4\u001b[0;31m \u001b[0mplt\u001b[0m\u001b[0;34m.\u001b[0m\u001b[0mplot\u001b[0m\u001b[0;34m(\u001b[0m \u001b[0mlog_weights\u001b[0m\u001b[0;34m[\u001b[0m\u001b[0ms\u001b[0m\u001b[0;34m:\u001b[0m\u001b[0;34m]\u001b[0m\u001b[0;34m,\u001b[0m \u001b[0mc\u001b[0m\u001b[0;34m=\u001b[0m\u001b[0;34m'r'\u001b[0m\u001b[0;34m,\u001b[0m \u001b[0mlabel\u001b[0m\u001b[0;34m=\u001b[0m\u001b[0;34m'Q-aggregation'\u001b[0m\u001b[0;34m)\u001b[0m\u001b[0;34m\u001b[0m\u001b[0;34m\u001b[0m\u001b[0m\n\u001b[0m\u001b[1;32m      5\u001b[0m \u001b[0mplt\u001b[0m\u001b[0;34m.\u001b[0m\u001b[0mylabel\u001b[0m\u001b[0;34m(\u001b[0m\u001b[0;34m'Risk on test data'\u001b[0m\u001b[0;34m)\u001b[0m\u001b[0;34m\u001b[0m\u001b[0;34m\u001b[0m\u001b[0m\n\u001b[1;32m      6\u001b[0m \u001b[0mplt\u001b[0m\u001b[0;34m.\u001b[0m\u001b[0mxlabel\u001b[0m\u001b[0;34m(\u001b[0m\u001b[0;34m'Epochs'\u001b[0m\u001b[0;34m)\u001b[0m\u001b[0;34m\u001b[0m\u001b[0;34m\u001b[0m\u001b[0m\n",
            "\u001b[0;31mTypeError\u001b[0m: unhashable type: 'slice'"
          ]
        },
        {
          "output_type": "display_data",
          "data": {
            "text/plain": [
              "<Figure size 1440x720 with 1 Axes>"
            ],
            "image/png": "[encoded data removed]"
          },
          "metadata": {
            "needs_background": "light"
          }
        }
      ]
    },
    {
      "cell_type": "code",
      "source": [
        "plt.figure(figsize=(20, 10))\n",
        "plt.plot(range(len(log_original['test_losses'][s:])), log_original['test_losses'][s:], c='b', label='original')\n",
        "plt.plot(range(len(log_weights['test_losses'][s:])), log_weights['test_losses'][s:], c='r', label='Q-aggregation')\n",
        "plt.ylabel('Risk on test data')\n",
        "plt.xlabel('Epochs')\n",
        "plt.legend()"
      ],
      "metadata": {
        "id": "uCLpAYPKdtDs"
      },
      "execution_count": null,
      "outputs": []
    }
  ]
}