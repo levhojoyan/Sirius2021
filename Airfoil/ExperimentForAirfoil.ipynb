{
  "cells": [
    {
      "cell_type": "markdown",
      "metadata": {
        "id": "view-in-github",
        "colab_type": "text"
      },
      "source": [
        "<a href=\"https://colab.research.google.com/github/levhojoyan/thesis/blob/main/Airfoil/ExperimentForAirfoil.ipynb\" target=\"_parent\"><img src=\"https://colab.research.google.com/assets/colab-badge.svg\" alt=\"Open In Colab\"/></a>"
      ]
    },
    {
      "cell_type": "code",
      "execution_count": null,
      "metadata": {
        "id": "FPTRte0XzkRa"
      },
      "outputs": [],
      "source": [
        "import numpy as np \n",
        "import torch\n",
        "import torchvision\n",
        "import matplotlib.pyplot as plt\n",
        "import torch.nn as nn\n",
        "import torch.nn.functional as F\n",
        "from tqdm.notebook import tqdm\n",
        "\n",
        "from torch.utils.data import TensorDataset, DataLoader\n",
        "\n",
        "\n",
        "from IPython import display\n",
        "import time\n",
        "\n",
        "%matplotlib inline"
      ]
    },
    {
      "cell_type": "code",
      "execution_count": null,
      "metadata": {
        "colab": {
          "base_uri": "https://localhost:8080/"
        },
        "id": "4hrcrM8gG2R9",
        "outputId": "71f2785f-5b20-42a7-fd2e-adf09bf6a10b"
      },
      "outputs": [
        {
          "output_type": "stream",
          "name": "stdout",
          "text": [
            "Drive already mounted at /content/drive; to attempt to forcibly remount, call drive.mount(\"/content/drive\", force_remount=True).\n"
          ]
        }
      ],
      "source": [
        "from google.colab import drive\n",
        "drive.mount('/content/drive')"
      ]
    },
    {
      "cell_type": "code",
      "execution_count": null,
      "metadata": {
        "id": "CX3cgz74G4_D"
      },
      "outputs": [],
      "source": [
        "import pandas as pd\n",
        "\n",
        "airfoil = pd.read_csv(\"/content/drive/MyDrive/HSE/Diploma/Airfoil/airfoil_self_noise.dat\", sep='\\t', header=None)\n",
        "\n",
        "airfoil = airfoil.rename(columns={0:  'f',\n",
        "                                  1: 'alpha',\n",
        "                                  2: 'c',  \n",
        "                                  3:'U_infinity', \n",
        "                                  4:'delta', \n",
        "                                  5:'SSPL'\n",
        "                                  })\n",
        "\n",
        "y = airfoil.SSPL\n",
        "X = airfoil.drop(columns=['SSPL'])"
      ]
    },
    {
      "cell_type": "code",
      "source": [
        "airfoil.SSPL"
      ],
      "metadata": {
        "id": "sBjwnEsXAs-G",
        "outputId": "057a48da-8038-4a93-cb04-888098986833",
        "colab": {
          "base_uri": "https://localhost:8080/"
        }
      },
      "execution_count": null,
      "outputs": [
        {
          "output_type": "execute_result",
          "data": {
            "text/plain": [
              "0       126.201\n",
              "1       125.201\n",
              "2       125.951\n",
              "3       127.591\n",
              "4       127.461\n",
              "         ...   \n",
              "1498    110.264\n",
              "1499    109.254\n",
              "1500    106.604\n",
              "1501    106.224\n",
              "1502    104.204\n",
              "Name: SSPL, Length: 1503, dtype: float64"
            ]
          },
          "metadata": {},
          "execution_count": 4
        }
      ]
    },
    {
      "cell_type": "code",
      "execution_count": null,
      "metadata": {
        "colab": {
          "base_uri": "https://localhost:8080/"
        },
        "id": "uSrJGDtJaEcm",
        "outputId": "af0482ad-607e-4e44-9530-a40fa3bd03a0"
      },
      "outputs": [
        {
          "output_type": "execute_result",
          "data": {
            "text/plain": [
              "(1503, 6)"
            ]
          },
          "metadata": {},
          "execution_count": 5
        }
      ],
      "source": [
        "airfoil.shape"
      ]
    },
    {
      "cell_type": "code",
      "execution_count": null,
      "metadata": {
        "id": "l3kBHcS5XdjI"
      },
      "outputs": [],
      "source": [
        "batch_size = 128\n",
        "epochs = 150"
      ]
    },
    {
      "cell_type": "code",
      "execution_count": null,
      "metadata": {
        "id": "l6scO_xl6Bzb"
      },
      "outputs": [],
      "source": [
        "# class RandomDataset(torch.utils.data.Dataset):\n",
        "#     \"\"\"Our random dataset\"\"\"\n",
        "    \n",
        "#     def __init__(self, x, y):\n",
        "#         self.x, self.y = x, y\n",
        "        \n",
        "#     def __len__(self):\n",
        "#         return len(self.x)\n",
        "    \n",
        "#     def __getitem__(self, idx):\n",
        "#         return {'sample': torch.tensor(self.x.iloc[idx], dtype=torch.float), 'target': self.y.iloc[idx]}"
      ]
    },
    {
      "cell_type": "code",
      "execution_count": null,
      "metadata": {
        "id": "XTG5o4dPH0tj"
      },
      "outputs": [],
      "source": [
        "from sklearn.model_selection import train_test_split"
      ]
    },
    {
      "cell_type": "code",
      "execution_count": null,
      "metadata": {
        "id": "FZJlOMYbH3Vo"
      },
      "outputs": [],
      "source": [
        "X_train, X_test, y_train, y_test = train_test_split(X, y, test_size=0.2, random_state=42, shuffle=True)"
      ]
    },
    {
      "cell_type": "code",
      "execution_count": null,
      "metadata": {
        "id": "LYE18Kq18mAc"
      },
      "outputs": [],
      "source": [
        "X_train_tensor = torch.from_numpy(X_train.values).float()\n",
        "X_test_tensor = torch.from_numpy(X_test.values).float()\n",
        "\n",
        "y_train_tensor = torch.from_numpy(y_train.values).float()\n",
        "y_test_tensor = torch.from_numpy(y_test.values).float()\n",
        "\n",
        "train_torch = TensorDataset(X_train_tensor, y_train_tensor)\n",
        "val_torch = TensorDataset(X_test_tensor, y_test_tensor)\n",
        "\n",
        "train_dataloader = DataLoader(train_torch, batch_size=batch_size, shuffle=True, drop_last=True)\n",
        "val_dataloader = DataLoader(val_torch, batch_size=batch_size, shuffle=True, drop_last=True)"
      ]
    },
    {
      "cell_type": "code",
      "source": [
        "X_train_tensor.shape, X_test_tensor.shape"
      ],
      "metadata": {
        "colab": {
          "base_uri": "https://localhost:8080/"
        },
        "id": "jVNonvn4LJcq",
        "outputId": "863f5c7f-c743-41b8-aadd-bd6fd9b88fb3"
      },
      "execution_count": null,
      "outputs": [
        {
          "output_type": "execute_result",
          "data": {
            "text/plain": [
              "(torch.Size([1202, 5]), torch.Size([301, 5]))"
            ]
          },
          "metadata": {},
          "execution_count": 11
        }
      ]
    },
    {
      "cell_type": "code",
      "execution_count": null,
      "metadata": {
        "id": "JFD2fxpSr_so"
      },
      "outputs": [],
      "source": [
        "class Template(nn.Module):\n",
        "    def __init__(self, input_shape, output_shape=20):\n",
        "        super(Template, self).__init__()\n",
        "        self.input_shape = input_shape\n",
        "        self.output_shape = output_shape\n",
        "        self.convs = nn.Sequential(\n",
        "                          nn.Linear(self.input_shape, 8),\n",
        "                          nn.ReLU(),\n",
        "                          nn.Linear(8, 3),\n",
        "                          nn.ReLU(),\n",
        "                          nn.Linear(3, 8),\n",
        "                          nn.ReLU(),\n",
        "                          nn.Linear(8, output_shape),\n",
        "                          nn.ReLU()\n",
        "                          )\n",
        "\n",
        "\n",
        "    def forward(self, x):\n",
        "        x = self.convs(x)\n",
        "\n",
        "        return x"
      ]
    },
    {
      "cell_type": "code",
      "execution_count": null,
      "metadata": {
        "id": "5SdRG2Mb9LkM"
      },
      "outputs": [],
      "source": [
        "class Model(nn.Module):\n",
        "    def __init__(self, input_shape):\n",
        "        super(Model, self).__init__()\n",
        "        self.input_shape = input_shape\n",
        "        self.template = Template(self.input_shape)\n",
        "        self.conv2 = nn.Linear(self.template.output_shape, 1)\n",
        "\n",
        "    def forward(self, x):\n",
        "      x = F.relu(self.template(x))\n",
        "\n",
        "      return self.conv2(x)\n",
        "\n",
        "    def count_loss(self, X, y):\n",
        "        return self.count_mse(X, y)\n",
        "\n",
        "    def count_mse(self, X, y):\n",
        "        \n",
        "        y_pred_functions = self.forward(X)\n",
        "        \n",
        "        # print(y_pred_functions.shape, y.shape)\n",
        "        assert y_pred_functions.shape == y.reshape(-1, 1).shape\n",
        "\n",
        "        mse = torch.nn.MSELoss()(y_pred_functions, y.reshape(-1, 1))\n",
        "\n",
        "        return mse\n",
        "\n",
        "class ModelWithWeighted(nn.Module):\n",
        "    def __init__(self, input_shape, output_models=20):\n",
        "        super(ModelWithWeighted, self).__init__()\n",
        "\n",
        "        self.input_shape = input_shape\n",
        "\n",
        "        self.conv1 = Template(input_shape) # the simpliest\n",
        "        self.conv2 = nn.Linear(self.conv1.output_shape, output_models) # the simpliest\n",
        "\n",
        "        self.weights = nn.Parameter(torch.zeros(output_models, requires_grad=True))\n",
        "\n",
        "\n",
        "    def forward(self, x):\n",
        "        x = F.relu(self.conv1(x))\n",
        "        return self.conv2(x)\n",
        "\n",
        "    \n",
        "    def count_loss(self, X, y):\n",
        "        norm_weights = F.softmax(self.weights, dim=0)\n",
        "\n",
        "        y_pred_functions = self.forward(X)\n",
        "\n",
        "        total_pred = torch.sum(y_pred_functions * norm_weights, dim=-1)\n",
        "\n",
        "        # print('kek1')\n",
        "        # print(y_pred_functions.shape, y.shape)\n",
        "        # assert y_pred_functions.shape == y.shape\n",
        "        \n",
        "        weighted_mse = torch.sum(norm_weights * ((y_pred_functions - y.reshape(-1, 1))**2))\n",
        "\n",
        "        # print(total_pred.shape, y.shape)\n",
        "        # print('kek2')\n",
        "\n",
        "        assert total_pred.shape == y.shape\n",
        "        # print('kek3')\n",
        "\n",
        "        mse = torch.nn.MSELoss()(total_pred, y)\n",
        "\n",
        "        return mse + weighted_mse\n",
        "\n",
        "    def count_mse(self, X, y):\n",
        "        norm_weights = F.softmax(self.weights, dim=0)\n",
        "\n",
        "        y_pred_functions = self.forward(X)\n",
        "\n",
        "        total_pred = torch.sum(y_pred_functions * norm_weights, dim=-1)\n",
        "        \n",
        "        assert total_pred.shape == y.shape\n",
        "\n",
        "        mse = torch.nn.MSELoss()(total_pred, y)\n",
        "\n",
        "        return mse"
      ]
    },
    {
      "cell_type": "code",
      "execution_count": null,
      "metadata": {
        "id": "Psd6OfA9n6FX"
      },
      "outputs": [],
      "source": [
        "def get_lr(optimizer):\n",
        "    for param_group in optimizer.param_groups:\n",
        "        return param_group['lr']"
      ]
    },
    {
      "cell_type": "code",
      "source": [
        "torch.manual_seed(0)"
      ],
      "metadata": {
        "id": "JIF6Ww36koe6",
        "colab": {
          "base_uri": "https://localhost:8080/"
        },
        "outputId": "c187f669-12e4-4899-b2bc-6fe682ebaa0f"
      },
      "execution_count": null,
      "outputs": [
        {
          "output_type": "execute_result",
          "data": {
            "text/plain": [
              "<torch._C.Generator at 0x7f020a9c88f0>"
            ]
          },
          "metadata": {},
          "execution_count": 15
        }
      ]
    },
    {
      "cell_type": "code",
      "execution_count": null,
      "metadata": {
        "id": "Oz8Gb2eyoicx"
      },
      "outputs": [],
      "source": [
        "def train_and_get_log_Q():\n",
        "    learning_rate = 0.03\n",
        "    model2 = ModelWithWeighted(X_train.shape[1])\n",
        "    optimizer = torch.optim.Adam(model2.parameters(), lr=learning_rate)\n",
        "    scheduler = torch.optim.lr_scheduler.ExponentialLR(optimizer, gamma=0.99)\n",
        "\n",
        "    log_weights = {}\n",
        "\n",
        "    log_weights['train_losses'] = []\n",
        "    log_weights['test_losses'] = []\n",
        "\n",
        "    epochs = 150\n",
        "\n",
        "    for i, epoch in enumerate(range(epochs)):\n",
        "        for x_batch, y_batch in train_dataloader:\n",
        "            loss = model2.count_loss(x_batch, y_batch)\n",
        "            \n",
        "            optimizer.zero_grad()\n",
        "            loss.backward()\n",
        "            optimizer.step()\n",
        "\n",
        "        scheduler.step()\n",
        "\n",
        "        with torch.no_grad():\n",
        "            test_mse = model2.count_mse(X_test_tensor, y_test_tensor).item()\n",
        "            train_mse = model2.count_mse(X_train_tensor, y_train_tensor).item()\n",
        "\n",
        "            log_weights['train_losses'].append(train_mse)\n",
        "            log_weights['test_losses'].append(test_mse)\n",
        "\n",
        "        lr = get_lr(optimizer)\n",
        "\n",
        "        # print(\n",
        "        #     f\"[{epoch}/{epochs}]\\t Training loss: {train_mse:8.4f}\\t Validation loss: {test_mse:8.4f}\\t Learning rate: {lr:8.4f}\"\n",
        "        # )\n",
        "\n",
        "    # plt.plot(log_weights['test_losses'][20:], c='b', label='test')\n",
        "    # plt.plot(log_weights['train_losses'][20:], c='r', label='train')\n",
        "    # plt.legend()\n",
        "    # plt.show()\n",
        "\n",
        "    return log_weights['test_losses']"
      ]
    },
    {
      "cell_type": "code",
      "execution_count": null,
      "metadata": {
        "id": "IS81hdwUaCJ9"
      },
      "outputs": [],
      "source": [
        "def train_and_get_log_default():\n",
        "    learning_rate = 0.02\n",
        "    model = Model(X_train.shape[1])\n",
        "    optimizer = torch.optim.Adam(model.parameters(), lr=learning_rate)\n",
        "    scheduler = torch.optim.lr_scheduler.ExponentialLR(optimizer, gamma=0.99)\n",
        "\n",
        "    log_original = {}\n",
        "\n",
        "    log_original['train_losses'] = []\n",
        "    log_original['test_losses'] = []\n",
        "\n",
        "    epochs = 150\n",
        "\n",
        "    for i, epoch in enumerate(range(epochs)):\n",
        "        for x_batch, y_batch in train_dataloader:\n",
        "            loss = model.count_loss(x_batch, y_batch)\n",
        "            \n",
        "            optimizer.zero_grad()\n",
        "            loss.backward()\n",
        "            optimizer.step()\n",
        "\n",
        "        scheduler.step()\n",
        "\n",
        "\n",
        "        with torch.no_grad():\n",
        "            test_mse = model.count_mse(X_test_tensor, y_test_tensor).item()\n",
        "            train_mse = model.count_mse(X_train_tensor, y_train_tensor).item()\n",
        "\n",
        "            log_original['train_losses'].append(train_mse)\n",
        "            log_original['test_losses'].append(test_mse)\n",
        "\n",
        "        lr = get_lr(optimizer)\n",
        "\n",
        "        # print(\n",
        "        #     f\"[{epoch}/{epochs}]\\t Training loss: {train_mse:8.4f}\\t Validation loss: {test_mse:8.4f}\\t Learning rate: {lr:8.4f}\"\n",
        "        # )\n",
        "\n",
        "    # plt.plot(log_original['test_losses'][20:], c='b', label='test')\n",
        "    # plt.plot(log_original['train_losses'][20:], c='r', label='train')\n",
        "    # plt.legend()\n",
        "    # plt.show()\n",
        "    return log_original['test_losses']"
      ]
    },
    {
      "cell_type": "code",
      "execution_count": null,
      "metadata": {
        "colab": {
          "base_uri": "https://localhost:8080/",
          "height": 65,
          "referenced_widgets": [
            "6cdbcb0a5b454149997b3e38416de5b6",
            "daba3804c28746c8b5fa7c13736c8233",
            "a0ac3144bfc140d2a2fc97b1602e7991",
            "0d602735d365498e95769a56dbd2c68d",
            "24e8024fd084491abded62460447831b",
            "6aa8b5b8886944359b594db09eca9df2",
            "edec15b3adf744918bbaeb329f779f7f",
            "b167c32729374f9ab054e63d8f7e00ac",
            "ad57566ae5634f41b5dbc78523605540",
            "feef62c6c1a745d494cb31286d0715bd",
            "ff3511803b144063bd4842209dc48bb6"
          ]
        },
        "id": "AWe4IBv1dxDt",
        "outputId": "337f1240-3dc0-4eb6-dc21-37442eb9b775"
      },
      "outputs": [
        {
          "output_type": "display_data",
          "data": {
            "text/plain": [
              "  0%|          | 0/100 [00:00<?, ?it/s]"
            ],
            "application/vnd.jupyter.widget-view+json": {
              "version_major": 2,
              "version_minor": 0,
              "model_id": "6cdbcb0a5b454149997b3e38416de5b6"
            }
          },
          "metadata": {}
        },
        {
          "output_type": "execute_result",
          "data": {
            "text/plain": [
              "(461.13231146977745, 1342.480690126241)"
            ]
          },
          "metadata": {},
          "execution_count": 18
        }
      ],
      "source": [
        "torch.manual_seed(0)\n",
        "Q_story = []\n",
        "for _ in tqdm(range(100)):\n",
        "    l = train_and_get_log_Q()\n",
        "    Q_story.append(l)\n",
        "\n",
        "np.mean(Q_story), np.std(Q_story)"
      ]
    },
    {
      "cell_type": "code",
      "source": [
        "Q_story = np.array(Q_story)\n",
        "Q_story.shape"
      ],
      "metadata": {
        "colab": {
          "base_uri": "https://localhost:8080/"
        },
        "id": "cca49w2TheEN",
        "outputId": "30b49bac-940a-4f60-ce97-919bf69fedcb"
      },
      "execution_count": null,
      "outputs": [
        {
          "output_type": "execute_result",
          "data": {
            "text/plain": [
              "(100, 150)"
            ]
          },
          "metadata": {},
          "execution_count": 33
        }
      ]
    },
    {
      "cell_type": "code",
      "source": [
        "Q_mean = np.mean(Q_story, axis=0)\n",
        "Q_std = np.std(Q_story, axis=0)\n",
        "\n",
        "Q_min = np.min(Q_story, axis=0)\n",
        "Q_max = np.max(Q_story, axis=0)\n"
      ],
      "metadata": {
        "id": "QHkfYG_3hru9"
      },
      "execution_count": null,
      "outputs": []
    },
    {
      "cell_type": "code",
      "source": [
        "torch.manual_seed(0)\n",
        "story = []\n",
        "for _ in tqdm(range(100)):\n",
        "    l = train_and_get_log_default()\n",
        "    story.append(l)\n",
        "\n",
        "np.mean(story), np.std(story)"
      ],
      "metadata": {
        "colab": {
          "base_uri": "https://localhost:8080/",
          "height": 65,
          "referenced_widgets": [
            "3e84c450d70d4945a6f0b0f354dff1ca",
            "f1bea3f1f8a44eb9afd17794fb622c92",
            "8ad9b20882684270b0f84ab7cadf1c3d",
            "cdc1ced426e6443eb196d8a5d0648479",
            "8d3f3494d69a47bbb87a363b801f6ff1",
            "63e9a4e9a5764548a8dc05f912a8a8fe",
            "00deb6992764440dacc00996036ce895",
            "86d2909ffe6c4e89b3acb3a757026ac4",
            "fae3fd000fdd4df79518ab848656aba1",
            "5417a015a6a24b63aa38685a5bfaf6f4",
            "293153597c8946b5b2d4a144c666af7e"
          ]
        },
        "id": "h1KuzN5vniOn",
        "outputId": "adc4a12f-78fe-4901-9c5b-3c270bfa4962"
      },
      "execution_count": null,
      "outputs": [
        {
          "output_type": "display_data",
          "data": {
            "text/plain": [
              "  0%|          | 0/100 [00:00<?, ?it/s]"
            ],
            "application/vnd.jupyter.widget-view+json": {
              "version_major": 2,
              "version_minor": 0,
              "model_id": "3e84c450d70d4945a6f0b0f354dff1ca"
            }
          },
          "metadata": {}
        },
        {
          "output_type": "execute_result",
          "data": {
            "text/plain": [
              "(695.4515930285136, 1697.7672311475196)"
            ]
          },
          "metadata": {},
          "execution_count": 19
        }
      ]
    },
    {
      "cell_type": "code",
      "source": [
        "story = np.array(story)\n",
        "story.shape\n",
        "\n",
        "ls_mean = np.mean(story, axis=0)\n",
        "ls_std = np.std(story, axis=0)\n"
      ],
      "metadata": {
        "id": "05bhgrGbhoRU"
      },
      "execution_count": null,
      "outputs": []
    },
    {
      "cell_type": "code",
      "source": [
        "ls_min = np.min(story, axis=0)\n",
        "ls_max = np.max(story, axis=0)\n"
      ],
      "metadata": {
        "id": "jLjSX3J1m7tO"
      },
      "execution_count": null,
      "outputs": []
    },
    {
      "cell_type": "code",
      "source": [
        "plt.figure(figsize=(15, 10))\n",
        "plt.plot(ls_mean, c='b', label='original')\n",
        "plt.fill_between(range(ls_mean.shape[0]), ls_mean + ls_std, ls_mean - ls_std, step=\"pre\", alpha=0.2)\n",
        "\n",
        "plt.plot(Q_mean, c='r', label='Q-aggregation')\n",
        "plt.fill_between(range(Q_mean.shape[0]), Q_mean + Q_std, Q_mean - Q_std, step=\"pre\", alpha=0.2)\n",
        "\n",
        "plt.ylabel('Risk on test data')\n",
        "plt.xlabel('Epochs')\n",
        "plt.legend();"
      ],
      "metadata": {
        "colab": {
          "base_uri": "https://localhost:8080/",
          "height": 604
        },
        "id": "-ZUP9cQriBYH",
        "outputId": "71c6fb39-1a47-4c61-f94d-0c97c7dfe0f7"
      },
      "execution_count": null,
      "outputs": [
        {
          "output_type": "display_data",
          "data": {
            "text/plain": [
              "<Figure size 1080x720 with 1 Axes>"
            ],
            "image/png": "[encoded data removed]"
          },
          "metadata": {
            "needs_background": "light"
          }
        }
      ]
    },
    {
      "cell_type": "code",
      "source": [
        "plt.figure(figsize=(15, 10))\n",
        "plt.plot(range(Q_mean.shape[0])[100:], ls_mean[100:], c='b', label='original')\n",
        "plt.fill_between(range(ls_mean.shape[0])[100:], ls_mean[100:] + ls_std[100:], ls_min[100:], step=\"pre\", alpha=0.2)\n",
        "\n",
        "plt.plot(range(Q_mean.shape[0])[100:], Q_mean[100:], c='r', label='Q-aggregation')\n",
        "plt.fill_between(range(Q_mean.shape[0])[100:], Q_mean[100:] + Q_std[100:], Q_min[100:], step=\"pre\", alpha=0.2)\n",
        "\n",
        "\n",
        "plt.ylabel('Risk on test data')\n",
        "plt.xlabel('Epochs')\n",
        "plt.legend();"
      ],
      "metadata": {
        "colab": {
          "base_uri": "https://localhost:8080/",
          "height": 605
        },
        "id": "zBNpMesdnF_H",
        "outputId": "e18d9a48-56b4-4362-8b18-5765fb002436"
      },
      "execution_count": null,
      "outputs": [
        {
          "output_type": "display_data",
          "data": {
            "text/plain": [
              "<Figure size 1080x720 with 1 Axes>"
            ],
            "image/png": "[encoded data removed]"
          },
          "metadata": {
            "needs_background": "light"
          }
        }
      ]
    },
    {
      "cell_type": "code",
      "source": [
        "plt.figure(figsize=(15, 10))\n",
        "plt.plot(range(Q_mean.shape[0])[100:], ls_mean[100:], c='b', label='original')\n",
        "plt.fill_between(range(ls_mean.shape[0])[100:], ls_mean[100:] + ls_std[100:], ls_mean[100:] - ls_std[100:], step=\"pre\", alpha=0.2)\n",
        "\n",
        "plt.plot(range(Q_mean.shape[0])[100:], Q_mean[100:], c='r', label='Q-aggregation')\n",
        "plt.fill_between(range(Q_mean.shape[0])[100:], Q_mean[100:] + Q_std[100:], Q_mean[100:] - Q_std[100:], step=\"pre\", alpha=0.2)\n",
        "\n",
        "\n",
        "plt.ylabel('Risk on test data')\n",
        "plt.xlabel('Epochs')\n",
        "plt.legend();"
      ],
      "metadata": {
        "colab": {
          "base_uri": "https://localhost:8080/",
          "height": 604
        },
        "id": "kI-lTrdhjTJr",
        "outputId": "1c9f9006-2530-46c1-c6ff-ac90d43c90c6"
      },
      "execution_count": null,
      "outputs": [
        {
          "output_type": "display_data",
          "data": {
            "text/plain": [
              "<Figure size 1080x720 with 1 Axes>"
            ],
            "image/png": "[encoded data removed]"
          },
          "metadata": {
            "needs_background": "light"
          }
        }
      ]
    },
    {
      "cell_type": "code",
      "execution_count": null,
      "metadata": {
        "id": "F7ShBbM_qAjc"
      },
      "outputs": [],
      "source": [
        "plt.figure(figsize=(20, 10))\n",
        "plt.plot(log_original['test_losses'], c='b', label='original')\n",
        "plt.plot(log_weights['test_losses'], c='r', label='Q-aggregation')\n",
        "plt.ylabel('Risk on test data')\n",
        "plt.xlabel('Epochs')\n",
        "plt.legend()"
      ]
    },
    {
      "cell_type": "code",
      "execution_count": null,
      "metadata": {
        "id": "uCLpAYPKdtDs"
      },
      "outputs": [],
      "source": [
        "plt.figure(figsize=(20, 10))\n",
        "plt.plot(log_original['test_losses'][100:], c='b', label='original')\n",
        "plt.plot(log_weights['test_losses'][100:], c='r', label='Q-aggregation')\n",
        "plt.ylabel('Risk on test data')\n",
        "plt.xlabel('Epochs')\n",
        "plt.legend()"
      ]
    },
    {
      "cell_type": "code",
      "execution_count": null,
      "metadata": {
        "id": "NtAOIZ_lvTJ3"
      },
      "outputs": [],
      "source": [
        "plt.plot(log_original['test_losses'][80:150], c='b', label='original')"
      ]
    },
    {
      "cell_type": "code",
      "source": [
        ""
      ],
      "metadata": {
        "id": "S3Iu0613lDR5"
      },
      "execution_count": null,
      "outputs": []
    }
  ],
  "metadata": {
    "colab": {
      "collapsed_sections": [],
      "name": "ExperimentForAirfoil.ipynb",
      "provenance": [],
      "mount_file_id": "1ZneuhemNvcbscZvD-Mb5NRUflbRycUTo",
      "authorship_tag": "ABX9TyP33BzvREOf/f0yUlRVouX0",
      "include_colab_link": true
    },
    "kernelspec": {
      "display_name": "Python 3",
      "name": "python3"
    },
    "language_info": {
      "name": "python"
    },
    "widgets": {
      "application/vnd.jupyter.widget-state+json": {
        "6cdbcb0a5b454149997b3e38416de5b6": {
          "model_module": "@jupyter-widgets/controls",
          "model_name": "HBoxModel",
          "model_module_version": "1.5.0",
          "state": {
            "_dom_classes": [],
            "_model_module": "@jupyter-widgets/controls",
            "_model_module_version": "1.5.0",
            "_model_name": "HBoxModel",
            "_view_count": null,
            "_view_module": "@jupyter-widgets/controls",
            "_view_module_version": "1.5.0",
            "_view_name": "HBoxView",
            "box_style": "",
            "children": [
              "IPY_MODEL_daba3804c28746c8b5fa7c13736c8233",
              "IPY_MODEL_a0ac3144bfc140d2a2fc97b1602e7991",
              "IPY_MODEL_0d602735d365498e95769a56dbd2c68d"
            ],
            "layout": "IPY_MODEL_24e8024fd084491abded62460447831b"
          }
        },
        "daba3804c28746c8b5fa7c13736c8233": {
          "model_module": "@jupyter-widgets/controls",
          "model_name": "HTMLModel",
          "model_module_version": "1.5.0",
          "state": {
            "_dom_classes": [],
            "_model_module": "@jupyter-widgets/controls",
            "_model_module_version": "1.5.0",
            "_model_name": "HTMLModel",
            "_view_count": null,
            "_view_module": "@jupyter-widgets/controls",
            "_view_module_version": "1.5.0",
            "_view_name": "HTMLView",
            "description": "",
            "description_tooltip": null,
            "layout": "IPY_MODEL_6aa8b5b8886944359b594db09eca9df2",
            "placeholder": "​",
            "style": "IPY_MODEL_edec15b3adf744918bbaeb329f779f7f",
            "value": "100%"
          }
        },
        "a0ac3144bfc140d2a2fc97b1602e7991": {
          "model_module": "@jupyter-widgets/controls",
          "model_name": "FloatProgressModel",
          "model_module_version": "1.5.0",
          "state": {
            "_dom_classes": [],
            "_model_module": "@jupyter-widgets/controls",
            "_model_module_version": "1.5.0",
            "_model_name": "FloatProgressModel",
            "_view_count": null,
            "_view_module": "@jupyter-widgets/controls",
            "_view_module_version": "1.5.0",
            "_view_name": "ProgressView",
            "bar_style": "success",
            "description": "",
            "description_tooltip": null,
            "layout": "IPY_MODEL_b167c32729374f9ab054e63d8f7e00ac",
            "max": 100,
            "min": 0,
            "orientation": "horizontal",
            "style": "IPY_MODEL_ad57566ae5634f41b5dbc78523605540",
            "value": 100
          }
        },
        "0d602735d365498e95769a56dbd2c68d": {
          "model_module": "@jupyter-widgets/controls",
          "model_name": "HTMLModel",
          "model_module_version": "1.5.0",
          "state": {
            "_dom_classes": [],
            "_model_module": "@jupyter-widgets/controls",
            "_model_module_version": "1.5.0",
            "_model_name": "HTMLModel",
            "_view_count": null,
            "_view_module": "@jupyter-widgets/controls",
            "_view_module_version": "1.5.0",
            "_view_name": "HTMLView",
            "description": "",
            "description_tooltip": null,
            "layout": "IPY_MODEL_feef62c6c1a745d494cb31286d0715bd",
            "placeholder": "​",
            "style": "IPY_MODEL_ff3511803b144063bd4842209dc48bb6",
            "value": " 100/100 [06:10&lt;00:00,  3.63s/it]"
          }
        },
        "24e8024fd084491abded62460447831b": {
          "model_module": "@jupyter-widgets/base",
          "model_name": "LayoutModel",
          "model_module_version": "1.2.0",
          "state": {
            "_model_module": "@jupyter-widgets/base",
            "_model_module_version": "1.2.0",
            "_model_name": "LayoutModel",
            "_view_count": null,
            "_view_module": "@jupyter-widgets/base",
            "_view_module_version": "1.2.0",
            "_view_name": "LayoutView",
            "align_content": null,
            "align_items": null,
            "align_self": null,
            "border": null,
            "bottom": null,
            "display": null,
            "flex": null,
            "flex_flow": null,
            "grid_area": null,
            "grid_auto_columns": null,
            "grid_auto_flow": null,
            "grid_auto_rows": null,
            "grid_column": null,
            "grid_gap": null,
            "grid_row": null,
            "grid_template_areas": null,
            "grid_template_columns": null,
            "grid_template_rows": null,
            "height": null,
            "justify_content": null,
            "justify_items": null,
            "left": null,
            "margin": null,
            "max_height": null,
            "max_width": null,
            "min_height": null,
            "min_width": null,
            "object_fit": null,
            "object_position": null,
            "order": null,
            "overflow": null,
            "overflow_x": null,
            "overflow_y": null,
            "padding": null,
            "right": null,
            "top": null,
            "visibility": null,
            "width": null
          }
        },
        "6aa8b5b8886944359b594db09eca9df2": {
          "model_module": "@jupyter-widgets/base",
          "model_name": "LayoutModel",
          "model_module_version": "1.2.0",
          "state": {
            "_model_module": "@jupyter-widgets/base",
            "_model_module_version": "1.2.0",
            "_model_name": "LayoutModel",
            "_view_count": null,
            "_view_module": "@jupyter-widgets/base",
            "_view_module_version": "1.2.0",
            "_view_name": "LayoutView",
            "align_content": null,
            "align_items": null,
            "align_self": null,
            "border": null,
            "bottom": null,
            "display": null,
            "flex": null,
            "flex_flow": null,
            "grid_area": null,
            "grid_auto_columns": null,
            "grid_auto_flow": null,
            "grid_auto_rows": null,
            "grid_column": null,
            "grid_gap": null,
            "grid_row": null,
            "grid_template_areas": null,
            "grid_template_columns": null,
            "grid_template_rows": null,
            "height": null,
            "justify_content": null,
            "justify_items": null,
            "left": null,
            "margin": null,
            "max_height": null,
            "max_width": null,
            "min_height": null,
            "min_width": null,
            "object_fit": null,
            "object_position": null,
            "order": null,
            "overflow": null,
            "overflow_x": null,
            "overflow_y": null,
            "padding": null,
            "right": null,
            "top": null,
            "visibility": null,
            "width": null
          }
        },
        "edec15b3adf744918bbaeb329f779f7f": {
          "model_module": "@jupyter-widgets/controls",
          "model_name": "DescriptionStyleModel",
          "model_module_version": "1.5.0",
          "state": {
            "_model_module": "@jupyter-widgets/controls",
            "_model_module_version": "1.5.0",
            "_model_name": "DescriptionStyleModel",
            "_view_count": null,
            "_view_module": "@jupyter-widgets/base",
            "_view_module_version": "1.2.0",
            "_view_name": "StyleView",
            "description_width": ""
          }
        },
        "b167c32729374f9ab054e63d8f7e00ac": {
          "model_module": "@jupyter-widgets/base",
          "model_name": "LayoutModel",
          "model_module_version": "1.2.0",
          "state": {
            "_model_module": "@jupyter-widgets/base",
            "_model_module_version": "1.2.0",
            "_model_name": "LayoutModel",
            "_view_count": null,
            "_view_module": "@jupyter-widgets/base",
            "_view_module_version": "1.2.0",
            "_view_name": "LayoutView",
            "align_content": null,
            "align_items": null,
            "align_self": null,
            "border": null,
            "bottom": null,
            "display": null,
            "flex": null,
            "flex_flow": null,
            "grid_area": null,
            "grid_auto_columns": null,
            "grid_auto_flow": null,
            "grid_auto_rows": null,
            "grid_column": null,
            "grid_gap": null,
            "grid_row": null,
            "grid_template_areas": null,
            "grid_template_columns": null,
            "grid_template_rows": null,
            "height": null,
            "justify_content": null,
            "justify_items": null,
            "left": null,
            "margin": null,
            "max_height": null,
            "max_width": null,
            "min_height": null,
            "min_width": null,
            "object_fit": null,
            "object_position": null,
            "order": null,
            "overflow": null,
            "overflow_x": null,
            "overflow_y": null,
            "padding": null,
            "right": null,
            "top": null,
            "visibility": null,
            "width": null
          }
        },
        "ad57566ae5634f41b5dbc78523605540": {
          "model_module": "@jupyter-widgets/controls",
          "model_name": "ProgressStyleModel",
          "model_module_version": "1.5.0",
          "state": {
            "_model_module": "@jupyter-widgets/controls",
            "_model_module_version": "1.5.0",
            "_model_name": "ProgressStyleModel",
            "_view_count": null,
            "_view_module": "@jupyter-widgets/base",
            "_view_module_version": "1.2.0",
            "_view_name": "StyleView",
            "bar_color": null,
            "description_width": ""
          }
        },
        "feef62c6c1a745d494cb31286d0715bd": {
          "model_module": "@jupyter-widgets/base",
          "model_name": "LayoutModel",
          "model_module_version": "1.2.0",
          "state": {
            "_model_module": "@jupyter-widgets/base",
            "_model_module_version": "1.2.0",
            "_model_name": "LayoutModel",
            "_view_count": null,
            "_view_module": "@jupyter-widgets/base",
            "_view_module_version": "1.2.0",
            "_view_name": "LayoutView",
            "align_content": null,
            "align_items": null,
            "align_self": null,
            "border": null,
            "bottom": null,
            "display": null,
            "flex": null,
            "flex_flow": null,
            "grid_area": null,
            "grid_auto_columns": null,
            "grid_auto_flow": null,
            "grid_auto_rows": null,
            "grid_column": null,
            "grid_gap": null,
            "grid_row": null,
            "grid_template_areas": null,
            "grid_template_columns": null,
            "grid_template_rows": null,
            "height": null,
            "justify_content": null,
            "justify_items": null,
            "left": null,
            "margin": null,
            "max_height": null,
            "max_width": null,
            "min_height": null,
            "min_width": null,
            "object_fit": null,
            "object_position": null,
            "order": null,
            "overflow": null,
            "overflow_x": null,
            "overflow_y": null,
            "padding": null,
            "right": null,
            "top": null,
            "visibility": null,
            "width": null
          }
        },
        "ff3511803b144063bd4842209dc48bb6": {
          "model_module": "@jupyter-widgets/controls",
          "model_name": "DescriptionStyleModel",
          "model_module_version": "1.5.0",
          "state": {
            "_model_module": "@jupyter-widgets/controls",
            "_model_module_version": "1.5.0",
            "_model_name": "DescriptionStyleModel",
            "_view_count": null,
            "_view_module": "@jupyter-widgets/base",
            "_view_module_version": "1.2.0",
            "_view_name": "StyleView",
            "description_width": ""
          }
        },
        "3e84c450d70d4945a6f0b0f354dff1ca": {
          "model_module": "@jupyter-widgets/controls",
          "model_name": "HBoxModel",
          "model_module_version": "1.5.0",
          "state": {
            "_dom_classes": [],
            "_model_module": "@jupyter-widgets/controls",
            "_model_module_version": "1.5.0",
            "_model_name": "HBoxModel",
            "_view_count": null,
            "_view_module": "@jupyter-widgets/controls",
            "_view_module_version": "1.5.0",
            "_view_name": "HBoxView",
            "box_style": "",
            "children": [
              "IPY_MODEL_f1bea3f1f8a44eb9afd17794fb622c92",
              "IPY_MODEL_8ad9b20882684270b0f84ab7cadf1c3d",
              "IPY_MODEL_cdc1ced426e6443eb196d8a5d0648479"
            ],
            "layout": "IPY_MODEL_8d3f3494d69a47bbb87a363b801f6ff1"
          }
        },
        "f1bea3f1f8a44eb9afd17794fb622c92": {
          "model_module": "@jupyter-widgets/controls",
          "model_name": "HTMLModel",
          "model_module_version": "1.5.0",
          "state": {
            "_dom_classes": [],
            "_model_module": "@jupyter-widgets/controls",
            "_model_module_version": "1.5.0",
            "_model_name": "HTMLModel",
            "_view_count": null,
            "_view_module": "@jupyter-widgets/controls",
            "_view_module_version": "1.5.0",
            "_view_name": "HTMLView",
            "description": "",
            "description_tooltip": null,
            "layout": "IPY_MODEL_63e9a4e9a5764548a8dc05f912a8a8fe",
            "placeholder": "​",
            "style": "IPY_MODEL_00deb6992764440dacc00996036ce895",
            "value": "100%"
          }
        },
        "8ad9b20882684270b0f84ab7cadf1c3d": {
          "model_module": "@jupyter-widgets/controls",
          "model_name": "FloatProgressModel",
          "model_module_version": "1.5.0",
          "state": {
            "_dom_classes": [],
            "_model_module": "@jupyter-widgets/controls",
            "_model_module_version": "1.5.0",
            "_model_name": "FloatProgressModel",
            "_view_count": null,
            "_view_module": "@jupyter-widgets/controls",
            "_view_module_version": "1.5.0",
            "_view_name": "ProgressView",
            "bar_style": "success",
            "description": "",
            "description_tooltip": null,
            "layout": "IPY_MODEL_86d2909ffe6c4e89b3acb3a757026ac4",
            "max": 100,
            "min": 0,
            "orientation": "horizontal",
            "style": "IPY_MODEL_fae3fd000fdd4df79518ab848656aba1",
            "value": 100
          }
        },
        "cdc1ced426e6443eb196d8a5d0648479": {
          "model_module": "@jupyter-widgets/controls",
          "model_name": "HTMLModel",
          "model_module_version": "1.5.0",
          "state": {
            "_dom_classes": [],
            "_model_module": "@jupyter-widgets/controls",
            "_model_module_version": "1.5.0",
            "_model_name": "HTMLModel",
            "_view_count": null,
            "_view_module": "@jupyter-widgets/controls",
            "_view_module_version": "1.5.0",
            "_view_name": "HTMLView",
            "description": "",
            "description_tooltip": null,
            "layout": "IPY_MODEL_5417a015a6a24b63aa38685a5bfaf6f4",
            "placeholder": "​",
            "style": "IPY_MODEL_293153597c8946b5b2d4a144c666af7e",
            "value": " 100/100 [05:07&lt;00:00,  3.16s/it]"
          }
        },
        "8d3f3494d69a47bbb87a363b801f6ff1": {
          "model_module": "@jupyter-widgets/base",
          "model_name": "LayoutModel",
          "model_module_version": "1.2.0",
          "state": {
            "_model_module": "@jupyter-widgets/base",
            "_model_module_version": "1.2.0",
            "_model_name": "LayoutModel",
            "_view_count": null,
            "_view_module": "@jupyter-widgets/base",
            "_view_module_version": "1.2.0",
            "_view_name": "LayoutView",
            "align_content": null,
            "align_items": null,
            "align_self": null,
            "border": null,
            "bottom": null,
            "display": null,
            "flex": null,
            "flex_flow": null,
            "grid_area": null,
            "grid_auto_columns": null,
            "grid_auto_flow": null,
            "grid_auto_rows": null,
            "grid_column": null,
            "grid_gap": null,
            "grid_row": null,
            "grid_template_areas": null,
            "grid_template_columns": null,
            "grid_template_rows": null,
            "height": null,
            "justify_content": null,
            "justify_items": null,
            "left": null,
            "margin": null,
            "max_height": null,
            "max_width": null,
            "min_height": null,
            "min_width": null,
            "object_fit": null,
            "object_position": null,
            "order": null,
            "overflow": null,
            "overflow_x": null,
            "overflow_y": null,
            "padding": null,
            "right": null,
            "top": null,
            "visibility": null,
            "width": null
          }
        },
        "63e9a4e9a5764548a8dc05f912a8a8fe": {
          "model_module": "@jupyter-widgets/base",
          "model_name": "LayoutModel",
          "model_module_version": "1.2.0",
          "state": {
            "_model_module": "@jupyter-widgets/base",
            "_model_module_version": "1.2.0",
            "_model_name": "LayoutModel",
            "_view_count": null,
            "_view_module": "@jupyter-widgets/base",
            "_view_module_version": "1.2.0",
            "_view_name": "LayoutView",
            "align_content": null,
            "align_items": null,
            "align_self": null,
            "border": null,
            "bottom": null,
            "display": null,
            "flex": null,
            "flex_flow": null,
            "grid_area": null,
            "grid_auto_columns": null,
            "grid_auto_flow": null,
            "grid_auto_rows": null,
            "grid_column": null,
            "grid_gap": null,
            "grid_row": null,
            "grid_template_areas": null,
            "grid_template_columns": null,
            "grid_template_rows": null,
            "height": null,
            "justify_content": null,
            "justify_items": null,
            "left": null,
            "margin": null,
            "max_height": null,
            "max_width": null,
            "min_height": null,
            "min_width": null,
            "object_fit": null,
            "object_position": null,
            "order": null,
            "overflow": null,
            "overflow_x": null,
            "overflow_y": null,
            "padding": null,
            "right": null,
            "top": null,
            "visibility": null,
            "width": null
          }
        },
        "00deb6992764440dacc00996036ce895": {
          "model_module": "@jupyter-widgets/controls",
          "model_name": "DescriptionStyleModel",
          "model_module_version": "1.5.0",
          "state": {
            "_model_module": "@jupyter-widgets/controls",
            "_model_module_version": "1.5.0",
            "_model_name": "DescriptionStyleModel",
            "_view_count": null,
            "_view_module": "@jupyter-widgets/base",
            "_view_module_version": "1.2.0",
            "_view_name": "StyleView",
            "description_width": ""
          }
        },
        "86d2909ffe6c4e89b3acb3a757026ac4": {
          "model_module": "@jupyter-widgets/base",
          "model_name": "LayoutModel",
          "model_module_version": "1.2.0",
          "state": {
            "_model_module": "@jupyter-widgets/base",
            "_model_module_version": "1.2.0",
            "_model_name": "LayoutModel",
            "_view_count": null,
            "_view_module": "@jupyter-widgets/base",
            "_view_module_version": "1.2.0",
            "_view_name": "LayoutView",
            "align_content": null,
            "align_items": null,
            "align_self": null,
            "border": null,
            "bottom": null,
            "display": null,
            "flex": null,
            "flex_flow": null,
            "grid_area": null,
            "grid_auto_columns": null,
            "grid_auto_flow": null,
            "grid_auto_rows": null,
            "grid_column": null,
            "grid_gap": null,
            "grid_row": null,
            "grid_template_areas": null,
            "grid_template_columns": null,
            "grid_template_rows": null,
            "height": null,
            "justify_content": null,
            "justify_items": null,
            "left": null,
            "margin": null,
            "max_height": null,
            "max_width": null,
            "min_height": null,
            "min_width": null,
            "object_fit": null,
            "object_position": null,
            "order": null,
            "overflow": null,
            "overflow_x": null,
            "overflow_y": null,
            "padding": null,
            "right": null,
            "top": null,
            "visibility": null,
            "width": null
          }
        },
        "fae3fd000fdd4df79518ab848656aba1": {
          "model_module": "@jupyter-widgets/controls",
          "model_name": "ProgressStyleModel",
          "model_module_version": "1.5.0",
          "state": {
            "_model_module": "@jupyter-widgets/controls",
            "_model_module_version": "1.5.0",
            "_model_name": "ProgressStyleModel",
            "_view_count": null,
            "_view_module": "@jupyter-widgets/base",
            "_view_module_version": "1.2.0",
            "_view_name": "StyleView",
            "bar_color": null,
            "description_width": ""
          }
        },
        "5417a015a6a24b63aa38685a5bfaf6f4": {
          "model_module": "@jupyter-widgets/base",
          "model_name": "LayoutModel",
          "model_module_version": "1.2.0",
          "state": {
            "_model_module": "@jupyter-widgets/base",
            "_model_module_version": "1.2.0",
            "_model_name": "LayoutModel",
            "_view_count": null,
            "_view_module": "@jupyter-widgets/base",
            "_view_module_version": "1.2.0",
            "_view_name": "LayoutView",
            "align_content": null,
            "align_items": null,
            "align_self": null,
            "border": null,
            "bottom": null,
            "display": null,
            "flex": null,
            "flex_flow": null,
            "grid_area": null,
            "grid_auto_columns": null,
            "grid_auto_flow": null,
            "grid_auto_rows": null,
            "grid_column": null,
            "grid_gap": null,
            "grid_row": null,
            "grid_template_areas": null,
            "grid_template_columns": null,
            "grid_template_rows": null,
            "height": null,
            "justify_content": null,
            "justify_items": null,
            "left": null,
            "margin": null,
            "max_height": null,
            "max_width": null,
            "min_height": null,
            "min_width": null,
            "object_fit": null,
            "object_position": null,
            "order": null,
            "overflow": null,
            "overflow_x": null,
            "overflow_y": null,
            "padding": null,
            "right": null,
            "top": null,
            "visibility": null,
            "width": null
          }
        },
        "293153597c8946b5b2d4a144c666af7e": {
          "model_module": "@jupyter-widgets/controls",
          "model_name": "DescriptionStyleModel",
          "model_module_version": "1.5.0",
          "state": {
            "_model_module": "@jupyter-widgets/controls",
            "_model_module_version": "1.5.0",
            "_model_name": "DescriptionStyleModel",
            "_view_count": null,
            "_view_module": "@jupyter-widgets/base",
            "_view_module_version": "1.2.0",
            "_view_name": "StyleView",
            "description_width": ""
          }
        }
      }
    }
  },
  "nbformat": 4,
  "nbformat_minor": 0
}