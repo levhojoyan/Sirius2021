{
  "nbformat": 4,
  "nbformat_minor": 0,
  "metadata": {
    "colab": {
      "name": "NeuralWithWeights.ipynb",
      "provenance": [],
      "collapsed_sections": [],
      "authorship_tag": "ABX9TyM8fEVzVeqcktcT8EdZIIo4",
      "include_colab_link": true
    },
    "kernelspec": {
      "name": "python3",
      "display_name": "Python 3"
    },
    "language_info": {
      "name": "python"
    }
  },
  "cells": [
    {
      "cell_type": "markdown",
      "metadata": {
        "id": "view-in-github",
        "colab_type": "text"
      },
      "source": [
        "<a href=\"https://colab.research.google.com/github/levhojoyan/Sirius2021/blob/main/NeuralWithWeights.ipynb\" target=\"_parent\"><img src=\"https://colab.research.google.com/assets/colab-badge.svg\" alt=\"Open In Colab\"/></a>"
      ]
    },
    {
      "cell_type": "code",
      "metadata": {
        "id": "FPTRte0XzkRa"
      },
      "source": [
        "import numpy as np \n",
        "import torch\n",
        "import torchvision\n",
        "import matplotlib.pyplot as plt\n",
        "import torch.nn as nn\n",
        "import torch.nn.functional as F\n",
        "\n",
        "from torch import distributions as distrs\n",
        "\n",
        "\n",
        "from sklearn.datasets import load_boston\n",
        "from tqdm.notebook import tqdm\n",
        "\n",
        "from IPython.display import clear_output\n",
        "\n",
        "%matplotlib inline"
      ],
      "execution_count": 23,
      "outputs": []
    },
    {
      "cell_type": "markdown",
      "metadata": {
        "id": "3tNz-4Lqz5pT"
      },
      "source": [
        "Создадим искусственные данные для задачи регрессии: синус + нормальный шум\n"
      ]
    },
    {
      "cell_type": "code",
      "metadata": {
        "id": "wUxeMpIK5oFK"
      },
      "source": [
        "# Красиво рисует двумерное распределение\n",
        "def plot_2d_dots(dots, color='blue', label='None'):\n",
        "    plt.ylim(-10, 10)\n",
        "    plt.xlim(-10, 10)\n",
        "    plt.scatter(dots[:, 0], dots[:, 1], s=1, c=color, label=label)"
      ],
      "execution_count": 2,
      "outputs": []
    },
    {
      "cell_type": "code",
      "metadata": {
        "colab": {
          "base_uri": "https://localhost:8080/"
        },
        "id": "gxaUVPWhz42s",
        "outputId": "fa4db79b-dde0-4d9e-94b8-4c743467651f"
      },
      "source": [
        "sample_size = 100\n",
        "x_s = torch.empty(sample_size).normal_(mean=0,std=1)\n",
        "noise_s = torch.empty(sample_size).normal_(mean=0,std=1)\n",
        "\n",
        "f_s = torch.sin(x_s) # + noise_s \n",
        "\n",
        "sample_2d = torch.cat((x_s.unsqueeze(1), f_s.unsqueeze(1)), 1)\n",
        "\n",
        "print(sample_2d.shape)"
      ],
      "execution_count": 3,
      "outputs": [
        {
          "output_type": "stream",
          "text": [
            "torch.Size([100, 2])\n"
          ],
          "name": "stdout"
        }
      ]
    },
    {
      "cell_type": "code",
      "metadata": {
        "colab": {
          "base_uri": "https://localhost:8080/",
          "height": 596
        },
        "id": "me2zqTiL6BSO",
        "outputId": "11ee3942-6623-46b8-dbdd-7dbaa80cd27f"
      },
      "source": [
        "plt.figure(figsize=(10, 10))\n",
        "plot_2d_dots(sample_2d, label='target distr')\n",
        "plt.legend()\n",
        "plt.show()"
      ],
      "execution_count": 4,
      "outputs": [
        {
          "output_type": "display_data",
          "data": {
            "image/png": "[encoded data removed]",
            "text/plain": [
              "<Figure size 720x720 with 1 Axes>"
            ]
          },
          "metadata": {
            "tags": [],
            "needs_background": "light"
          }
        }
      ]
    },
    {
      "cell_type": "code",
      "metadata": {
        "id": "l6scO_xl6Bzb"
      },
      "source": [
        "class RandomDataset(torch.utils.data.Dataset):\n",
        "    \"\"\"Our random dataset\"\"\"\n",
        "    \n",
        "    def __init__(self, x, y):\n",
        "        self.x, self.y = x, y\n",
        "        \n",
        "    def __len__(self):\n",
        "        return len(self.x)\n",
        "    \n",
        "    def __getitem__(self, idx):\n",
        "        return {'sample': torch.tensor(self.x[idx,:], dtype=torch.float), 'target': self.y[idx]}"
      ],
      "execution_count": 5,
      "outputs": []
    },
    {
      "cell_type": "code",
      "metadata": {
        "id": "x_Pe5ZWb8tRr"
      },
      "source": [
        "our_dataset = RandomDataset(sample_2d[:, 0].unsqueeze(1), sample_2d[:, 1])"
      ],
      "execution_count": 6,
      "outputs": []
    },
    {
      "cell_type": "code",
      "metadata": {
        "colab": {
          "base_uri": "https://localhost:8080/"
        },
        "id": "2eCIxQBO8uhL",
        "outputId": "26c7a3d2-0b4b-4ab1-e7ba-18de1b6b1c0f"
      },
      "source": [
        "our_dataset.__getitem__(1)"
      ],
      "execution_count": 7,
      "outputs": [
        {
          "output_type": "stream",
          "text": [
            "/usr/local/lib/python3.7/dist-packages/ipykernel_launcher.py:11: UserWarning: To copy construct from a tensor, it is recommended to use sourceTensor.clone().detach() or sourceTensor.clone().detach().requires_grad_(True), rather than torch.tensor(sourceTensor).\n",
            "  # This is added back by InteractiveShellApp.init_path()\n"
          ],
          "name": "stderr"
        },
        {
          "output_type": "execute_result",
          "data": {
            "text/plain": [
              "{'sample': tensor([-0.4222]), 'target': tensor(-0.4098)}"
            ]
          },
          "metadata": {
            "tags": []
          },
          "execution_count": 7
        }
      ]
    },
    {
      "cell_type": "code",
      "metadata": {
        "colab": {
          "base_uri": "https://localhost:8080/"
        },
        "id": "KflnpMMy80N0",
        "outputId": "0249133d-0194-4e97-e8c5-1732c1089d2a"
      },
      "source": [
        "sample_2d[1]\n"
      ],
      "execution_count": 8,
      "outputs": [
        {
          "output_type": "execute_result",
          "data": {
            "text/plain": [
              "tensor([-0.4222, -0.4098])"
            ]
          },
          "metadata": {
            "tags": []
          },
          "execution_count": 8
        }
      ]
    },
    {
      "cell_type": "code",
      "metadata": {
        "id": "0bCuAd149FnR"
      },
      "source": [
        "batch_size=4"
      ],
      "execution_count": 9,
      "outputs": []
    },
    {
      "cell_type": "code",
      "metadata": {
        "id": "5SdRG2Mb9LkM"
      },
      "source": [
        "class Model(nn.Module):\n",
        "    def __init__(self):\n",
        "        super(Model, self).__init__()\n",
        "        self.conv1 = nn.Linear(1, 5) # the simpliest\n",
        "        self.conv2 = nn.Linear(5, 1)\n",
        "\n",
        "    def forward(self, x):\n",
        "      x = F.relu(self.conv1(x))\n",
        "      return self.conv2(x)"
      ],
      "execution_count": 10,
      "outputs": []
    },
    {
      "cell_type": "code",
      "metadata": {
        "id": "JK-TDFfFAy5A"
      },
      "source": [
        "def mse(y_true, y_pred):\n",
        "  return torch.sum((y_pred - batch_y)**2)"
      ],
      "execution_count": 11,
      "outputs": []
    },
    {
      "cell_type": "code",
      "metadata": {
        "id": "C38dgVYIDemP"
      },
      "source": [
        "dataloader = torch.utils.data.DataLoader(our_dataset, batch_size=4)\n",
        "train_size = int(sample_size * 0.7)\n",
        "test_size = sample_size - train_size"
      ],
      "execution_count": 12,
      "outputs": []
    },
    {
      "cell_type": "code",
      "metadata": {
        "colab": {
          "base_uri": "https://localhost:8080/"
        },
        "id": "_ZWbWqiY9QMt",
        "outputId": "fb71933d-8ae2-4191-c4e4-79835397415e"
      },
      "source": [
        "for batch in dataloader:\n",
        "    batch_x = batch['sample']\n",
        "    batch_y = batch['target']\n",
        "    break\n",
        "print('Sample:', batch_x)\n",
        "print('Target:', batch_y)\n",
        "\n",
        "model = Model()\n",
        "print(batch_x.shape)\n",
        "y_pred = model(batch_x) # получили предсказания модели\n",
        "loss = mse(batch_y, y_pred)\n",
        "print(loss.data, y_pred)"
      ],
      "execution_count": 13,
      "outputs": [
        {
          "output_type": "stream",
          "text": [
            "Sample: tensor([[ 1.1223],\n",
            "        [-0.4222],\n",
            "        [ 0.8768],\n",
            "        [-0.5009]])\n",
            "Target: tensor([ 0.9011, -0.4098,  0.7687, -0.4802])\n",
            "torch.Size([4, 1])\n",
            "tensor(8.6646) tensor([[0.6736],\n",
            "        [0.4221],\n",
            "        [0.6298],\n",
            "        [0.4116]], grad_fn=<AddmmBackward>)\n"
          ],
          "name": "stdout"
        },
        {
          "output_type": "stream",
          "text": [
            "/usr/local/lib/python3.7/dist-packages/ipykernel_launcher.py:11: UserWarning: To copy construct from a tensor, it is recommended to use sourceTensor.clone().detach() or sourceTensor.clone().detach().requires_grad_(True), rather than torch.tensor(sourceTensor).\n",
            "  # This is added back by InteractiveShellApp.init_path()\n"
          ],
          "name": "stderr"
        }
      ]
    },
    {
      "cell_type": "code",
      "metadata": {
        "id": "etmILfHx-E0w"
      },
      "source": [
        "optimizer = torch.optim.Adam(model.parameters(), lr=0.05)"
      ],
      "execution_count": 21,
      "outputs": []
    },
    {
      "cell_type": "code",
      "metadata": {
        "colab": {
          "base_uri": "https://localhost:8080/"
        },
        "id": "YwYaHakfSVw0",
        "outputId": "64889527-e481-4fb8-9399-09cb7091cd22"
      },
      "source": [
        "model.parameters"
      ],
      "execution_count": 19,
      "outputs": [
        {
          "output_type": "execute_result",
          "data": {
            "text/plain": [
              "<bound method Module.parameters of Model(\n",
              "  (conv1): Linear(in_features=1, out_features=5, bias=True)\n",
              "  (conv2): Linear(in_features=5, out_features=1, bias=True)\n",
              ")>"
            ]
          },
          "metadata": {
            "tags": []
          },
          "execution_count": 19
        }
      ]
    },
    {
      "cell_type": "code",
      "metadata": {
        "colab": {
          "base_uri": "https://localhost:8080/",
          "height": 613
        },
        "id": "OuVlrNX-BXig",
        "outputId": "6670fd63-7c86-4ca5-b805-932d9fc8fb4d"
      },
      "source": [
        "i = 0\n",
        "for x_train, y_train in tqdm(dataloader): # берем батч из трейн лоадера\n",
        "    x_train = batch['sample']\n",
        "    y_train = batch['target']\n",
        "\n",
        "    print(x_train)\n",
        "    y_pred = model(x_train) # делаем предсказания\n",
        "    loss = torch.nn.MSELoss()(y_pred, y_train) # считаем лосс\n",
        "    loss.backward() # считаем градиенты обратным проходом\n",
        "    optimizer.step() # обновляем параметры сети\n",
        "    optimizer.zero_grad() # обнуляем посчитанные градиенты параметров\n",
        "    i += 1\n",
        "\n",
        "    if i % 5 == 0:\n",
        "      # plot pdfs\n",
        "      clear_output(True)\n",
        "      plt.figure(figsize=(10, 10))\n",
        "      plot_2d_dots(torch.cat((x_train, y_train.unsqueeze(1)), 1), color='r', label='target distr')\n",
        "      plot_2d_dots(torch.cat((x_train, y_pred.detach()), 1), color='b', label='train distr')\n",
        "      plt.legend()\n",
        "      plt.show() "
      ],
      "execution_count": 50,
      "outputs": [
        {
          "output_type": "display_data",
          "data": {
            "image/png": "[encoded data removed]",
            "text/plain": [
              "<Figure size 720x720 with 1 Axes>"
            ]
          },
          "metadata": {
            "tags": [],
            "needs_background": "light"
          }
        },
        {
          "output_type": "stream",
          "text": [
            "\n"
          ],
          "name": "stdout"
        }
      ]
    },
    {
      "cell_type": "code",
      "metadata": {
        "colab": {
          "base_uri": "https://localhost:8080/",
          "height": 596
        },
        "id": "WgJf-isVKcuW",
        "outputId": "29387d68-68ba-40db-b866-eab11ac6078a"
      },
      "source": [
        "plt.figure(figsize=(10, 10))\n",
        "plot_2d_dots(torch.cat((x_train, y_train.unsqueeze(1)), 1), color='r', label='target distr')\n",
        "plot_2d_dots(torch.cat((x_train, y_pred.detach()), 1), color='b', label='train distr')\n",
        "plt.legend()\n",
        "plt.show()"
      ],
      "execution_count": 46,
      "outputs": [
        {
          "output_type": "display_data",
          "data": {
            "image/png": "[encoded data removed]",
            "text/plain": [
              "<Figure size 720x720 with 1 Axes>"
            ]
          },
          "metadata": {
            "tags": [],
            "needs_background": "light"
          }
        }
      ]
    }
  ]
}